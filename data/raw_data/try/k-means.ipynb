{
 "cells": [
  {
   "cell_type": "code",
   "execution_count": 62,
   "metadata": {},
   "outputs": [],
   "source": [
    "import numpy as np\n",
    "import matplotlib.pyplot as plt\n",
    "\n",
    "# 加载数据\n",
    "def loadDataSet(fileName):\n",
    "    data = np.loadtxt(fileName,delimiter='\\t')\n",
    "    return data\n",
    "\n",
    "# 欧氏距离计算\n",
    "def distEclud(x,y):\n",
    "    return np.sqrt(np.sum((x-y)**2))  # 计算欧氏距离\n",
    "\n",
    "# 为给定数据集构建一个包含K个随机质心的集合\n",
    "def randCent(dataSet,k):\n",
    "    m,n = dataSet.shape\n",
    "    centroids = np.zeros((k,n))\n",
    "    for i in range(k):\n",
    "        index = int(np.random.uniform(0,m)) #\n",
    "        centroids[i,:] = dataSet[index,:]\n",
    "    return centroids\n",
    "\n",
    "# k均值聚类\n",
    "def KMeans(dataSet,k):\n",
    "\n",
    "    m = np.shape(dataSet)[0]  #行的数目\n",
    "    # 第一列存样本属于哪一簇\n",
    "    # 第二列存样本的到簇的中心点的误差\n",
    "    clusterAssment = np.mat(np.zeros((m,2)))\n",
    "    clusterChange = True\n",
    "    \n",
    "    # 第1步 初始化centroids\n",
    "    centroids = randCent(dataSet,k)\n",
    "    \n",
    "    \n",
    "    \n",
    "    while clusterChange:\n",
    "        loss_l=[0 for i in range(11)]\n",
    "        clusterChange = False\n",
    "        \n",
    "\n",
    "        # 遍历所有的样本（行数）\n",
    "        for i in range(m):\n",
    "            minDist = 100000.0\n",
    "            minIndex = -1\n",
    "\n",
    "            # 遍历所有的质心\n",
    "            #第2步 找出最近的质心\n",
    "            for j in range(k):\n",
    "                # 计算该样本到质心的欧式距离\n",
    "                distance = distEclud(centroids[j,:],dataSet[i,:])\n",
    "                if distance < minDist:\n",
    "                    minDist = distance\n",
    "                    minIndex = j\n",
    "            # 第 3 步：更新每一行样本所属的簇\n",
    "            if clusterAssment[i,0] != minIndex:\n",
    "                clusterChange = True\n",
    "                clusterAssment[i,:] = minIndex,minDist**2\n",
    "                \n",
    "\n",
    "            loss_l[int(clusterAssment[i,0])]+=int(clusterAssment[i,1])\n",
    "            \n",
    "        #第 4 步：更新质心\n",
    "        for j in range(k):\n",
    "            pointsInCluster = dataSet[np.nonzero(clusterAssment[:,0].A == j)[0]]  # 获取簇类所有的点\n",
    "            centroids[j,:] = np.mean(pointsInCluster,axis=0)   # 对矩阵的行求均值\n",
    "        \n",
    "        print(loss_l)\n",
    "\n",
    "    print(\"Congratulations,cluster complete!\")\n",
    "    return centroids,clusterAssment\n",
    "\n",
    "def showCluster(dataSet,k,centroids,clusterAssment):\n",
    "    m,n = dataSet.shape\n",
    "    if n != 2:\n",
    "        print(\"数据不是二维的\")\n",
    "        return 1\n",
    "\n",
    "    mark = ['or', 'ob', 'og', 'ok', '^r', '+r', 'sr', 'dr', '<r', 'pr','+k']\n",
    "    if k > len(mark):\n",
    "        print(\"k值太大了\")\n",
    "        return 1\n",
    "\n",
    "    # 绘制所有的样本\n",
    "    for i in range(m):\n",
    "        markIndex = int(clusterAssment[i,0])\n",
    "        plt.plot(dataSet[i,0],dataSet[i,1],mark[markIndex])\n",
    "\n",
    "    mark = ['Dr', 'Db', 'Dg', 'Dk', '^b', '+b', 'sb', 'db', '<b', 'pb','+k']\n",
    "    # 绘制质心\n",
    "    for i in range(k):\n",
    "        plt.plot(centroids[i,0],centroids[i,1],mark[i])\n",
    "\n",
    "    plt.show()"
   ]
  },
  {
   "cell_type": "code",
   "execution_count": 54,
   "metadata": {},
   "outputs": [
    {
     "name": "stdout",
     "output_type": "stream",
     "text": [
      "[0, 3, 39, 0, 0, 0, 0, 0, 0, 0, 0]\n",
      "[0, 3, 39, 2, 0, 0, 0, 0, 0, 0, 0]\n",
      "[0, 3, 39, 2, 0, 0, 0, 0, 0, 0, 0]\n",
      "Congratulations,cluster complete!\n"
     ]
    },
    {
     "data": {
      "image/png": "[encoded data removed]",
      "text/plain": [
       "<Figure size 432x288 with 1 Axes>"
      ]
     },
     "metadata": {
      "needs_background": "light"
     },
     "output_type": "display_data"
    }
   ],
   "source": [
    "dataSet = loadDataSet(\"k-means实现test.txt\")\n",
    "k = 4\n",
    "centroids,clusterAssment = KMeans(dataSet,k)\n",
    "\n",
    "showCluster(dataSet,k,centroids,clusterAssment)\n"
   ]
  },
  {
   "cell_type": "code",
   "execution_count": 17,
   "metadata": {},
   "outputs": [
    {
     "name": "stdout",
     "output_type": "stream",
     "text": [
      "[[ 1.65  4.28]\n",
      " [-3.45  3.42]\n",
      " [ 4.84 -1.15]\n",
      " [-5.37 -3.36]\n",
      " [ 0.97  2.92]\n",
      " [-3.57  1.53]\n",
      " [ 0.45 -3.3 ]\n",
      " [-3.49 -1.72]\n",
      " [ 2.67  1.59]\n",
      " [-3.16  3.19]]\n"
     ]
    }
   ],
   "source": [
    "print(dataSet)"
   ]
  },
  {
   "cell_type": "code",
   "execution_count": 18,
   "metadata": {},
   "outputs": [
    {
     "name": "stdout",
     "output_type": "stream",
     "text": [
      "[[-4.43       -2.54      ]\n",
      " [-3.39333333  2.71333333]\n",
      " [ 1.76333333  2.93      ]\n",
      " [ 2.645      -2.225     ]]\n"
     ]
    }
   ],
   "source": [
    "print(centroids)#质心"
   ]
  },
  {
   "cell_type": "code",
   "execution_count": 19,
   "metadata": {},
   "outputs": [
    {
     "name": "stdout",
     "output_type": "stream",
     "text": [
      "[[ 2.     26.7496]\n",
      " [ 1.      3.5865]\n",
      " [ 3.     23.8946]\n",
      " [ 0.      0.    ]\n",
      " [ 2.     19.7864]\n",
      " [ 1.      0.    ]\n",
      " [ 3.      0.    ]\n",
      " [ 0.      0.    ]\n",
      " [ 2.      5.8897]\n",
      " [ 1.      2.9237]]\n"
     ]
    }
   ],
   "source": [
    "print(clusterAssment)"
   ]
  },
  {
   "cell_type": "code",
   "execution_count": 6,
   "metadata": {
    "scrolled": false
   },
   "outputs": [
    {
     "ename": "AttributeError",
     "evalue": "'numpy.ndarray' object has no attribute 'array'",
     "output_type": "error",
     "traceback": [
      "\u001b[0;31m---------------------------------------------------------------------------\u001b[0m",
      "\u001b[0;31mAttributeError\u001b[0m                            Traceback (most recent call last)",
      "\u001b[0;32m/tmp/ipykernel_2635/968109949.py\u001b[0m in \u001b[0;36m<module>\u001b[0;34m\u001b[0m\n\u001b[1;32m     11\u001b[0m \u001b[0;34m\u001b[0m\u001b[0m\n\u001b[1;32m     12\u001b[0m \u001b[0mmodeled_datasets\u001b[0m\u001b[0;34m=\u001b[0m\u001b[0mread_list2\u001b[0m\u001b[0;34m(\u001b[0m\u001b[0;34m'modeled_datasets.txt'\u001b[0m\u001b[0;34m)\u001b[0m\u001b[0;34m\u001b[0m\u001b[0;34m\u001b[0m\u001b[0m\n\u001b[0;32m---> 13\u001b[0;31m \u001b[0mdataSet\u001b[0m\u001b[0;34m.\u001b[0m\u001b[0marray\u001b[0m\u001b[0;34m(\u001b[0m\u001b[0mmodeled_datasets\u001b[0m\u001b[0;34m)\u001b[0m\u001b[0;34m\u001b[0m\u001b[0;34m\u001b[0m\u001b[0m\n\u001b[0m",
      "\u001b[0;31mAttributeError\u001b[0m: 'numpy.ndarray' object has no attribute 'array'"
     ]
    }
   ],
   "source": [
    "# dataSet = loadDataSet(\"test.txt\")\n",
    "import ast\n",
    "def read_list2(text_path):\n",
    "    lsit=[]\n",
    "    with open('%s' % text_path, 'r', encoding=\"utf8\") as f:  # 打开一个文件只读模式\n",
    "        line = f.readlines()  # 读取文件中的每一行，放入line列表中\n",
    "        for line_list in line:\n",
    "            line = ast.literal_eval(line_list.replace('\\n', ''))\n",
    "            lsit.append(line)\n",
    "    return lsit\n",
    "\n",
    "modeled_datasets=read_list2('modeled_datasets.txt')\n"
   ]
  },
  {
   "cell_type": "code",
   "execution_count": 10,
   "metadata": {},
   "outputs": [
    {
     "name": "stdout",
     "output_type": "stream",
     "text": [
      "20808 768\n"
     ]
    }
   ],
   "source": [
    "print(len(modeled_datasets),len(modeled_datasets[0]))"
   ]
  },
  {
   "cell_type": "code",
   "execution_count": 55,
   "metadata": {},
   "outputs": [],
   "source": [
    "dataSet=np.array(modeled_datasets)"
   ]
  },
  {
   "cell_type": "code",
   "execution_count": 56,
   "metadata": {},
   "outputs": [
    {
     "name": "stdout",
     "output_type": "stream",
     "text": [
      "[0, 5810, 13324, 31910, 82191, 101225, 18059, 6409, 29782, 8676, 23276]\n",
      "[8587, 10578, 13722, 36223, 47319, 80446, 12973, 11992, 35062, 6154, 22535]\n",
      "[12762, 13453, 15359, 37025, 36834, 68917, 12913, 13088, 36032, 8217, 21146]\n",
      "[14901, 14352, 16039, 36143, 32989, 61003, 14616, 12725, 36665, 10206, 20197]\n",
      "[16480, 14852, 16225, 34807, 31448, 55720, 15963, 13148, 36273, 11580, 19620]\n",
      "[17382, 14880, 16731, 33365, 31117, 51564, 16768, 14010, 35862, 12375, 19179]\n",
      "[18076, 15280, 17097, 32042, 30854, 48728, 17350, 14766, 35143, 12984, 18955]\n",
      "[18041, 15521, 17316, 31097, 31056, 46814, 17944, 15422, 34495, 13511, 18847]\n",
      "[18209, 15853, 17368, 30100, 31128, 45330, 18197, 15977, 33953, 13999, 18772]\n",
      "[18249, 16123, 17588, 29348, 31195, 43942, 18367, 16454, 33581, 14396, 18679]\n",
      "[18200, 16340, 17829, 28620, 31158, 42799, 18573, 16771, 33310, 14752, 18618]\n",
      "[18138, 16545, 17928, 27958, 31347, 42035, 18758, 16970, 33062, 15005, 18556]\n",
      "[18192, 16659, 18144, 27290, 31412, 41374, 18849, 17173, 32889, 15185, 18521]\n",
      "[18187, 16797, 18210, 26650, 31327, 40834, 19023, 17392, 32712, 15357, 18515]\n",
      "[18174, 16917, 18150, 26240, 31395, 40444, 19245, 17536, 32485, 15481, 18526]\n",
      "[18124, 16977, 18161, 25745, 31371, 40118, 19432, 17706, 32414, 15573, 18526]\n",
      "[18064, 17032, 18071, 25426, 31448, 39975, 19568, 17855, 32232, 15642, 18537]\n",
      "[17997, 17094, 18048, 24705, 31503, 39821, 19645, 17979, 32253, 15704, 18537]\n",
      "[17980, 17142, 18051, 23968, 31621, 39567, 19655, 18082, 32179, 15758, 18548]\n",
      "[17999, 17168, 18048, 23180, 31643, 39322, 19701, 18218, 32145, 15778, 18556]\n",
      "[18007, 17202, 18054, 22722, 31679, 39228, 19705, 18310, 32053, 15824, 18556]\n",
      "[18045, 17256, 18041, 22368, 31622, 39077, 19704, 18378, 32002, 15889, 18556]\n",
      "[18091, 17265, 18039, 21951, 31618, 38972, 19699, 18455, 32004, 15909, 18556]\n",
      "[18160, 17309, 18072, 21501, 31570, 38825, 19682, 18551, 31981, 15906, 18556]\n",
      "[18148, 17313, 18071, 21258, 31654, 38821, 19642, 18608, 31956, 15905, 18556]\n",
      "[18138, 17323, 18078, 21258, 31724, 38692, 19618, 18670, 31932, 15889, 18556]\n",
      "[18167, 17337, 18056, 21258, 31755, 38628, 19585, 18732, 31901, 15898, 18556]\n",
      "[18161, 17345, 18046, 21258, 31790, 38598, 19566, 18802, 31879, 15903, 18556]\n",
      "[18104, 17363, 18041, 21258, 31772, 38541, 19609, 18881, 31846, 15909, 18556]\n",
      "[18091, 17386, 18043, 21258, 31779, 38516, 19523, 18948, 31809, 15944, 18556]\n",
      "[18076, 17402, 18030, 21258, 31830, 38385, 19601, 18940, 31779, 15951, 18567]\n",
      "[18126, 17409, 18015, 21177, 31858, 38203, 19622, 18950, 31750, 15979, 18567]\n",
      "[18221, 17417, 18023, 20949, 31887, 37920, 19662, 18990, 31703, 16007, 18567]\n",
      "[18201, 17424, 17994, 20877, 31915, 37764, 19711, 19032, 31657, 16048, 18567]\n",
      "[18233, 17415, 17990, 20877, 31886, 37549, 19752, 19103, 31629, 16075, 18567]\n",
      "[18370, 17410, 17966, 20877, 31943, 37341, 19750, 19147, 31495, 16100, 18567]\n",
      "[18401, 17428, 17930, 20877, 32011, 37297, 19736, 19228, 31336, 16128, 18567]\n",
      "[18443, 17445, 17914, 20877, 32025, 37190, 19755, 19286, 31213, 16139, 18567]\n",
      "[18517, 17512, 17893, 20877, 32044, 37100, 19766, 19269, 31063, 16148, 18567]\n",
      "[18528, 17501, 17885, 20877, 32054, 37065, 19790, 19279, 31049, 16143, 18567]\n",
      "[18592, 17517, 17877, 20877, 32046, 37065, 19748, 19319, 30951, 16165, 18567]\n",
      "[18659, 17492, 17882, 20877, 32016, 37021, 19729, 19367, 30933, 16158, 18567]\n",
      "[18677, 17464, 17912, 20893, 31987, 36991, 19712, 19402, 30913, 16159, 18567]\n",
      "[18651, 17477, 17944, 20893, 31994, 36991, 19695, 19399, 30920, 16170, 18567]\n",
      "[18681, 17502, 17951, 20893, 31982, 36947, 19673, 19402, 30903, 16185, 18567]\n",
      "[18682, 17502, 17930, 20893, 31987, 36947, 19728, 19402, 30861, 16201, 18567]\n",
      "[18668, 17502, 17932, 20893, 32005, 36947, 19726, 19408, 30829, 16215, 18578]\n",
      "[18656, 17495, 17941, 20893, 32012, 36947, 19722, 19395, 30832, 16231, 18578]\n",
      "[18669, 17495, 17933, 20893, 32012, 36890, 19742, 19393, 30824, 16243, 18578]\n",
      "[18677, 17503, 17927, 20893, 32012, 36839, 19758, 19398, 30805, 16256, 18578]\n",
      "[18691, 17512, 17938, 20893, 32012, 36777, 19747, 19419, 30805, 16257, 18578]\n",
      "[18674, 17532, 17906, 20893, 31997, 36777, 19795, 19419, 30817, 16266, 18578]\n",
      "[18667, 17528, 17908, 20893, 31969, 36727, 19812, 19470, 30827, 16264, 18578]\n",
      "[18662, 17548, 17893, 20893, 31964, 36712, 19845, 19482, 30793, 16268, 18578]\n",
      "[18671, 17583, 17895, 20893, 31946, 36677, 19807, 19501, 30777, 16291, 18578]\n",
      "[18671, 17616, 17861, 20893, 31923, 36659, 19825, 19514, 30777, 16299, 18578]\n",
      "[18671, 17632, 17861, 20893, 31931, 36659, 19821, 19515, 30777, 16290, 18578]\n",
      "[18665, 17639, 17861, 20893, 31949, 36659, 19810, 19513, 30777, 16290, 18578]\n",
      "[18658, 17639, 17861, 20893, 31949, 36659, 19813, 19513, 30777, 16298, 18578]\n",
      "[18658, 17639, 17855, 20893, 31942, 36659, 19825, 19513, 30777, 16298, 18578]\n",
      "[18658, 17639, 17839, 20893, 31942, 36659, 19839, 19513, 30777, 16298, 18578]\n",
      "[18658, 17639, 17839, 20893, 31942, 36659, 19839, 19513, 30777, 16298, 18578]\n",
      "Congratulations,cluster complete!\n"
     ]
    }
   ],
   "source": [
    "\n",
    "k = 11\n",
    "centroids,clusterAssment = KMeans(dataSet,k)"
   ]
  },
  {
   "cell_type": "code",
   "execution_count": 57,
   "metadata": {},
   "outputs": [],
   "source": [
    "def store_list(lsit, text_path):\n",
    "    ff = open(text_path, encoding='utf-8', mode='w')\n",
    "    for line_list in lsit:\n",
    "        ff.write(str(line_list))  # 写入一个新文件中\n",
    "        ff.write(\"\\n\")\n",
    "        \n",
    "store_list(centroids, 'centroids.txt')\n",
    "store_list(clusterAssment, 'clusterAssment.txt')"
   ]
  },
  {
   "cell_type": "code",
   "execution_count": 59,
   "metadata": {},
   "outputs": [
    {
     "name": "stderr",
     "output_type": "stream",
     "text": [
      "/data/fuwen/anaconda3/envs/bj1/lib/python3.7/site-packages/sklearn/manifold/_t_sne.py:783: FutureWarning: The default initialization in TSNE will change from 'random' to 'pca' in 1.2.\n",
      "  FutureWarning,\n",
      "/data/fuwen/anaconda3/envs/bj1/lib/python3.7/site-packages/sklearn/manifold/_t_sne.py:793: FutureWarning: The default learning rate in TSNE will change from 200.0 to 'auto' in 1.2.\n",
      "  FutureWarning,\n"
     ]
    },
    {
     "name": "stdout",
     "output_type": "stream",
     "text": [
      "[[ 192.70021  -189.7594  ]\n",
      " [  85.536674 -305.10944 ]\n",
      " [ -29.812012 -197.94446 ]\n",
      " [  77.351494  -82.59443 ]]\n"
     ]
    }
   ],
   "source": [
    "import numpy as np\n",
    "from sklearn.manifold import TSNE\n",
    "X = np.array([[0, 0, 0], [0, 1, 1], [1, 0, 1], [1, 1, 1]])\n",
    "X_embedded = TSNE(n_components=2).fit_transform(X)\n",
    "print(X_embedded)\n"
   ]
  },
  {
   "cell_type": "code",
   "execution_count": 60,
   "metadata": {},
   "outputs": [
    {
     "name": "stderr",
     "output_type": "stream",
     "text": [
      "/data/fuwen/anaconda3/envs/bj1/lib/python3.7/site-packages/sklearn/manifold/_t_sne.py:783: FutureWarning: The default initialization in TSNE will change from 'random' to 'pca' in 1.2.\n",
      "  FutureWarning,\n",
      "/data/fuwen/anaconda3/envs/bj1/lib/python3.7/site-packages/sklearn/manifold/_t_sne.py:793: FutureWarning: The default learning rate in TSNE will change from 200.0 to 'auto' in 1.2.\n",
      "  FutureWarning,\n"
     ]
    },
    {
     "name": "stdout",
     "output_type": "stream",
     "text": [
      "20808 2\n"
     ]
    }
   ],
   "source": [
    "import numpy as np\n",
    "from sklearn.manifold import TSNE\n",
    "X_embedded = TSNE(n_components=2).fit_transform(dataSet)\n",
    "print(len(X_embedded),len(X_embedded[0]))\n"
   ]
  },
  {
   "cell_type": "code",
   "execution_count": 63,
   "metadata": {},
   "outputs": [
    {
     "data": {
      "image/png": "[encoded data removed]",
      "text/plain": [
       "<Figure size 432x288 with 1 Axes>"
      ]
     },
     "metadata": {
      "needs_background": "light"
     },
     "output_type": "display_data"
    }
   ],
   "source": [
    "k=11\n",
    "showCluster(X_embedded,k,centroids,clusterAssment)"
   ]
  },
  {
   "cell_type": "code",
   "execution_count": null,
   "metadata": {},
   "outputs": [],
   "source": []
  }
 ],
 "metadata": {
  "kernelspec": {
   "display_name": "bj1",
   "language": "python",
   "name": "bj1"
  },
  "language_info": {
   "codemirror_mode": {
    "name": "ipython",
    "version": 3
   },
   "file_extension": ".py",
   "mimetype": "text/x-python",
   "name": "python",
   "nbconvert_exporter": "python",
   "pygments_lexer": "ipython3",
   "version": "3.7.11"
  }
 },
 "nbformat": 4,
 "nbformat_minor": 2
}
