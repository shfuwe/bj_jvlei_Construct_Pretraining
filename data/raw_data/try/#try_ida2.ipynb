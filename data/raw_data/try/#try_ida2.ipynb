{
 "cells": [
  {
   "cell_type": "code",
   "execution_count": 1,
   "metadata": {},
   "outputs": [
    {
     "name": "stdout",
     "output_type": "stream",
     "text": [
      "20808 2058\n"
     ]
    }
   ],
   "source": [
    "def read_list(text_path):\n",
    "    lsit=[]\n",
    "    with open('%s' % text_path, 'r', encoding=\"utf8\") as f:  # 打开一个文件只读模式\n",
    "        line = f.readlines()  # 读取文件中的每一行，放入line列表中\n",
    "        for line_list in line:\n",
    "            lsit.append(line_list.replace('\\n',''))\n",
    "    return lsit\n",
    "data_list=read_list('./data_list_clear_stop.txt')\n",
    "print(len(data_list),len(data_list[0]))"
   ]
  },
  {
   "cell_type": "code",
   "execution_count": 2,
   "metadata": {},
   "outputs": [],
   "source": [
    "data_list_split=[i.split(' ') for i in data_list]\n",
    "for i in range(len(data_list_split)):\n",
    "    while '' in data_list_split[i]:\n",
    "        data_list_split[i].remove('')"
   ]
  },
  {
   "cell_type": "code",
   "execution_count": 11,
   "metadata": {},
   "outputs": [
    {
     "data": {
      "text/plain": [
       "['The',\n",
       " 'British',\n",
       " 'Home',\n",
       " 'Secretary',\n",
       " 'statement',\n",
       " 'interpreted',\n",
       " 'claiming',\n",
       " 'US',\n",
       " 'Presidential',\n",
       " 'Candidate',\n",
       " 'Donald',\n",
       " 'Trump',\n",
       " 'blocked',\n",
       " 'entering',\n",
       " 'UK',\n",
       " 'petition',\n",
       " 'calling',\n",
       " 'government',\n",
       " 'ban',\n",
       " 'Mr',\n",
       " 'Trump',\n",
       " 'UK',\n",
       " 'grounds',\n",
       " 'hate',\n",
       " 'speech',\n",
       " 'topped',\n",
       " 'signatures',\n",
       " 'response',\n",
       " 'government',\n",
       " 'Home',\n",
       " 'Secretary',\n",
       " 'nonconducive',\n",
       " 'In',\n",
       " 'December',\n",
       " 'Mr',\n",
       " 'Trump',\n",
       " 'hit',\n",
       " 'headlines',\n",
       " 'calling',\n",
       " 'moratorium',\n",
       " 'entry',\n",
       " 'United',\n",
       " 'States',\n",
       " 'Muslims',\n",
       " 'threat',\n",
       " 'Islamic',\n",
       " 'terrorism',\n",
       " 'His',\n",
       " 'comments',\n",
       " 'sparked',\n",
       " 'wave',\n",
       " 'outrage',\n",
       " 'swept',\n",
       " 'tlantic',\n",
       " 'prompting',\n",
       " 'petition',\n",
       " 'calling',\n",
       " 'Government',\n",
       " 'ban',\n",
       " 'entering',\n",
       " 'UK',\n",
       " 'If',\n",
       " 'United',\n",
       " 'Kingdom',\n",
       " 'continue',\n",
       " 'applying',\n",
       " 'unacceptable',\n",
       " 'behaviour',\n",
       " 'criteria',\n",
       " 'enter',\n",
       " 'borders',\n",
       " 'applied',\n",
       " 'rich',\n",
       " 'poor',\n",
       " 'weak',\n",
       " 'powerful',\n",
       " 'petition',\n",
       " 'argued',\n",
       " 'It',\n",
       " 'gained',\n",
       " 'signatures',\n",
       " 'exceeding',\n",
       " 'government',\n",
       " 'comment',\n",
       " 'The',\n",
       " 'government',\n",
       " 'released',\n",
       " 'response',\n",
       " 'foremost',\n",
       " 'routinely',\n",
       " 'comment',\n",
       " 'immigration',\n",
       " 'decisions',\n",
       " 'However',\n",
       " 'continues',\n",
       " 'The',\n",
       " 'Home',\n",
       " 'Secretary',\n",
       " 'nonEuropean',\n",
       " 'Economic',\n",
       " 'rea',\n",
       " 'national',\n",
       " 'UK',\n",
       " 'presence',\n",
       " 'UK',\n",
       " 'nonconducive',\n",
       " 'Both',\n",
       " 'Home',\n",
       " 'Secretary',\n",
       " 'Theresa',\n",
       " 'May',\n",
       " 'Prime',\n",
       " 'Minister',\n",
       " 'David',\n",
       " 'Cameron',\n",
       " 'condemned',\n",
       " 'Mr',\n",
       " 'Trumps',\n",
       " 'remarks',\n",
       " 'divisive',\n",
       " 'unhelpful',\n",
       " 'wrong',\n",
       " 'Commenting',\n",
       " 'matter',\n",
       " 'Prime',\n",
       " 'Ministers',\n",
       " 'Questions',\n",
       " 'Mr',\n",
       " 'Cameron',\n",
       " 'remarks',\n",
       " 'divisive',\n",
       " 'stupid',\n",
       " 'wrong',\n",
       " 'country',\n",
       " 'unite',\n",
       " 'Sky',\n",
       " 'News',\n",
       " 'poll',\n",
       " 'Britons',\n",
       " 'agreed',\n",
       " 'Mr',\n",
       " 'Trump',\n",
       " 'Muslims',\n",
       " 'barred',\n",
       " 'entry',\n",
       " 'threat',\n",
       " 'Islamic',\n",
       " 'extremism',\n",
       " 'Ms',\n",
       " 'May',\n",
       " 'track',\n",
       " 'record',\n",
       " 'banning',\n",
       " 'wingers',\n",
       " 'speak',\n",
       " 'threat',\n",
       " 'Islamist',\n",
       " 'ideology',\n",
       " 'barred',\n",
       " 'Pamela',\n",
       " 'Geller',\n",
       " 'Robert',\n",
       " 'Spencer',\n",
       " 'cofounders',\n",
       " 'merican',\n",
       " 'Freedom',\n",
       " 'Defense',\n",
       " 'Initiative',\n",
       " 'speak',\n",
       " 'event',\n",
       " 'entering',\n",
       " 'country',\n",
       " 'The',\n",
       " 'pair',\n",
       " 'ban',\n",
       " 'a',\n",
       " 'striking',\n",
       " 'blow',\n",
       " 'freedom',\n",
       " 'adding',\n",
       " 'nation',\n",
       " 'Magna',\n",
       " 'Carta',\n",
       " 'dead',\n",
       " 'The',\n",
       " 'Home',\n",
       " 'Offices',\n",
       " 'response',\n",
       " 'petition',\n",
       " 'ban',\n",
       " 'Mr',\n",
       " 'Trump',\n",
       " 'reads',\n",
       " 'For',\n",
       " 'reasons',\n",
       " 'Government',\n",
       " 'routinely',\n",
       " 'comment',\n",
       " 'individual',\n",
       " 'immigration',\n",
       " 'exclusion',\n",
       " 'decisions',\n",
       " 'The',\n",
       " 'Home',\n",
       " 'Secretary',\n",
       " 'nonEuropean',\n",
       " 'Economic',\n",
       " 'rea',\n",
       " 'national',\n",
       " 'UK',\n",
       " 'presence',\n",
       " 'UK',\n",
       " 'nonconducive',\n",
       " 'The',\n",
       " 'Home',\n",
       " 'Secretary',\n",
       " 'UK',\n",
       " 'privilege',\n",
       " 'continue',\n",
       " 'powers',\n",
       " 'prevent',\n",
       " 'entering',\n",
       " 'UK',\n",
       " 'harm',\n",
       " 'society',\n",
       " 'share',\n",
       " 'basic',\n",
       " 'values',\n",
       " 'Exclusion',\n",
       " 'powers',\n",
       " 'lightly',\n",
       " 'The',\n",
       " 'Home',\n",
       " 'Secretary',\n",
       " 'powers',\n",
       " 'justified',\n",
       " 'evidence',\n",
       " 'The',\n",
       " 'Prime',\n",
       " 'Minister',\n",
       " 'disagrees',\n",
       " 'Donald',\n",
       " 'Trumps',\n",
       " 'remarks',\n",
       " 'The',\n",
       " 'Home',\n",
       " 'Secretary',\n",
       " 'Donald',\n",
       " 'Trumps',\n",
       " 'remarks',\n",
       " 'relation',\n",
       " 'Muslims',\n",
       " 'divisive',\n",
       " 'unhelpful',\n",
       " 'wrong',\n",
       " 'The',\n",
       " 'Government',\n",
       " 'recognises',\n",
       " 'strength',\n",
       " 'feeling',\n",
       " 'remarks',\n",
       " 'continue',\n",
       " 'speak',\n",
       " 'comments',\n",
       " 'potential',\n",
       " 'divide',\n",
       " 'communities',\n",
       " 'We',\n",
       " 'reject',\n",
       " 'attempts',\n",
       " 'create',\n",
       " 'division',\n",
       " 'marginalisation',\n",
       " 'endeavour',\n",
       " 'protect']"
      ]
     },
     "execution_count": 11,
     "metadata": {},
     "output_type": "execute_result"
    }
   ],
   "source": [
    "data_list_split[0]"
   ]
  },
  {
   "cell_type": "code",
   "execution_count": 3,
   "metadata": {},
   "outputs": [
    {
     "name": "stdout",
     "output_type": "stream",
     "text": [
      "[[(0, 1), (1, 1), (2, 1), (3, 2), (4, 1), (5, 1), (6, 1), (7, 3), (8, 2), (9, 1), (10, 1), (11, 3), (12, 1), (13, 9), (14, 1), (15, 1), (16, 1), (17, 2), (18, 1), (19, 1), (20, 1), (21, 2), (22, 2), (23, 1), (24, 6), (25, 1), (26, 3), (27, 1), (28, 1), (29, 3), (30, 1), (31, 8), (32, 1), (33, 1), (34, 1), (35, 5), (36, 3), (37, 9), (38, 1), (39, 2), (40, 1), (41, 1), (42, 1), (43, 1), (44, 1), (45, 1), (46, 4), (47, 1), (48, 1), (49, 1), (50, 1), (51, 1), (52, 3), (53, 1), (54, 3), (55, 2), (56, 1), (57, 1), (58, 3), (59, 1), (60, 2), (61, 1), (62, 1), (63, 2), (64, 1), (65, 1), (66, 3), (67, 1), (68, 4), (69, 2), (70, 1), (71, 1), (72, 1), (73, 1), (74, 1), (75, 4), (76, 1), (77, 1), (78, 1), (79, 1), (80, 2), (81, 1), (82, 1), (83, 1), (84, 1), (85, 2), (86, 1), (87, 1), (88, 4), (89, 1), (90, 1), (91, 1), (92, 1), (93, 3), (94, 2), (95, 1), (96, 1), (97, 1), (98, 2), (99, 1), (100, 1), (101, 1), (102, 1), (103, 1), (104, 5), (105, 3), (106, 1), (107, 1), (108, 2), (109, 1), (110, 1), (111, 3), (112, 1), (113, 1), (114, 1), (115, 1), (116, 1), (117, 1), (118, 3), (119, 1), (120, 1), (121, 1), (122, 1), (123, 1), (124, 1), (125, 3)]]\n",
      "[[('Both', 1), ('British', 1), ('Britons', 1), ('Cameron', 2), ('David', 1), ('December', 1), ('Defense', 1), ('Donald', 3), ('Economic', 2), ('For', 1), ('Freedom', 1), ('Government', 3), ('His', 1), ('Home', 9), ('However', 1), ('If', 1), ('In', 1), ('Islamic', 2), ('Islamist', 1), ('It', 1), ('Kingdom', 1), ('May', 2), ('Minister', 2), ('Ministers', 1), ('Mr', 6), ('Ms', 1), ('Muslims', 3), ('News', 1), ('Presidential', 1), ('Prime', 3), ('Robert', 1), ('Secretary', 8), ('Sky', 1), ('States', 1), ('Theresa', 1), ('Trump', 5), ('Trumps', 3), ('UK', 9), ('US', 1), ('United', 2), ('We', 1), ('adding', 1), ('agreed', 1), ('applied', 1), ('argued', 1), ('attempts', 1), ('ban', 4), ('banning', 1), ('basic', 1), ('blocked', 1), ('blow', 1), ('borders', 1), ('calling', 3), ('claiming', 1), ('comment', 3), ('comments', 2), ('communities', 1), ('condemned', 1), ('continue', 3), ('continues', 1), ('country', 2), ('create', 1), ('dead', 1), ('decisions', 2), ('divide', 1), ('division', 1), ('divisive', 3), ('enter', 1), ('entering', 4), ('entry', 2), ('event', 1), ('evidence', 1), ('feeling', 1), ('freedom', 1), ('gained', 1), ('government', 4), ('grounds', 1), ('harm', 1), ('hate', 1), ('hit', 1), ('immigration', 2), ('individual', 1), ('matter', 1), ('merican', 1), ('nation', 1), ('national', 2), ('outrage', 1), ('pair', 1), ('petition', 4), ('poll', 1), ('poor', 1), ('potential', 1), ('powerful', 1), ('powers', 3), ('presence', 2), ('prevent', 1), ('prompting', 1), ('protect', 1), ('rea', 2), ('reads', 1), ('reasons', 1), ('record', 1), ('reject', 1), ('released', 1), ('remarks', 5), ('response', 3), ('rich', 1), ('share', 1), ('signatures', 2), ('society', 1), ('sparked', 1), ('speak', 3), ('speech', 1), ('statement', 1), ('strength', 1), ('striking', 1), ('swept', 1), ('terrorism', 1), ('threat', 3), ('track', 1), ('unacceptable', 1), ('unite', 1), ('values', 1), ('wave', 1), ('weak', 1), ('wrong', 3)]]\n"
     ]
    }
   ],
   "source": [
    "import gensim.corpora as corpora\n",
    "id2word = corpora.Dictionary(data_list_split)     # Create Dictionary\n",
    "id2word.filter_extremes(no_below=3, no_above=0.5, keep_n=3000)\n",
    "\n",
    "\n",
    "id2word.save_as_text(\"dictionary\")                   # save dict\n",
    "texts = data_list_split                           # Create Corpus\n",
    "corpus = [id2word.doc2bow(text) for text in texts]   # Term Document Frequency\n",
    "print(corpus[:1])\n",
    "print([[(id2word[id], freq) for id, freq in cp] for cp in corpus[:1]])\n",
    "\n",
    "#词袋模型"
   ]
  },
  {
   "cell_type": "code",
   "execution_count": 19,
   "metadata": {},
   "outputs": [
    {
     "name": "stdout",
     "output_type": "stream",
     "text": [
      "3000\n",
      "Dictionary(3000 unique tokens: ['Both', 'British', 'Britons', 'Cameron', 'David']...)\n"
     ]
    }
   ],
   "source": [
    "print(len(id2word))\n",
    "print(id2word)"
   ]
  },
  {
   "cell_type": "code",
   "execution_count": 4,
   "metadata": {},
   "outputs": [],
   "source": [
    "from gensim import models\n",
    " \n",
    "#根据语料库和字典生成模型\n",
    "tfidf_model = models.TfidfModel(corpus=corpus, dictionary=id2word)\n",
    "tfidf_model.save('test_tfidf.model') #保存模型到本地\n",
    "tfidf_model = models.TfidfModel.load('test_tfidf.model') #载入模型\n",
    "corpus_tfidf = [tfidf_model[doc] for doc in corpus]"
   ]
  },
  {
   "cell_type": "code",
   "execution_count": 5,
   "metadata": {},
   "outputs": [
    {
     "name": "stdout",
     "output_type": "stream",
     "text": [
      "[[(0, 0.04262459013414131), (1, 0.025075760844989005), (2, 0.04903041603748363), (3, 0.06020033317104613), (4, 0.026333214531887212), (5, 0.04415412970359719), (6, 0.04811074732267244), (7, 0.05815196009008726), (8, 0.11931570299934628), (9, 0.02959168132279916), (10, 0.05971535836536764), (11, 0.13415481198228088), (12, 0.03211574144315469), (13, 0.47231868629403884), (14, 0.030836057048007164), (15, 0.02171029158832725), (16, 0.010896143334682175), (17, 0.06020033317104613), (18, 0.05385049693461505), (19, 0.012443994926958522), (20, 0.04471827066076029), (21, 0.06246669775527645), (22, 0.05000828898828664), (23, 0.05744349752802943), (24, 0.1441471282421858), (25, 0.045602285620904966), (26, 0.13300050199396043), (27, 0.024134231940597245), (28, 0.06111194484675632), (29, 0.08718594115466795), (30, 0.05758996655149038), (31, 0.2591328100830257), (32, 0.05920656325793054), (33, 0.025439764173087864), (34, 0.05537938955999813), (35, 0.09584268558475492), (36, 0.08674333627868905), (37, 0.21827515903195824), (38, 0.015431183440977573), (39, 0.04347963421246307), (40, 0.014623744729343264), (41, 0.03451954481028894), (42, 0.03703482684241112), (43, 0.060184621945046646), (44, 0.046851747940151116), (45, 0.050074259198111246), (46, 0.17791506323571968), (47, 0.05866323671763572), (48, 0.05381352254034272), (49, 0.051298696354008765), (50, 0.04792002012202818), (51, 0.03835872439721537), (52, 0.09948531997548815), (53, 0.04558242747224414), (54, 0.11738569735555256), (55, 0.06703263977431011), (56, 0.04862486817613163), (57, 0.047755355746702706), (58, 0.08618857105073698), (59, 0.0415428562041187), (60, 0.032154396219309885), (61, 0.04275219941574551), (62, 0.03618781160921087), (63, 0.09821571444444695), (64, 0.05926214116640521), (65, 0.06111194484675632), (66, 0.17233049258408828), (67, 0.04627487460708436), (68, 0.17683074636646262), (69, 0.10640048456074325), (70, 0.031395660845532636), (71, 0.03710791657644527), (72, 0.04988074756057997), (73, 0.047872764058601525), (74, 0.05231395309670728), (75, 0.07633976455873322), (76, 0.05877013497241368), (77, 0.05948681284591183), (78, 0.04596491554830404), (79, 0.03063536229140083), (80, 0.06940332373967349), (81, 0.046549496465958295), (82, 0.03644424676859828), (83, 0.026305376975099506), (84, 0.03741508496852527), (85, 0.056669590814236934), (86, 0.05778781069821269), (87, 0.054770309440538095), (88, 0.21308374977582384), (89, 0.03402088008176394), (90, 0.04869996929347165), (91, 0.034727884057917345), (92, 0.04118204699953228), (93, 0.14810793506928271), (94, 0.09096716108649738), (95, 0.04042123084593219), (96, 0.05839970295288906), (97, 0.03717088729702007), (98, 0.12146639177441264), (99, 0.06054780388959321), (100, 0.04457037164520001), (101, 0.036534181381043175), (102, 0.05965785149967314), (103, 0.031219912169187156), (104, 0.21823636455254458), (105, 0.09604661647593254), (106, 0.052614086184861186), (107, 0.04052921768962327), (108, 0.11830243481640904), (109, 0.04974423438950547), (110, 0.05258040049518976), (111, 0.1251143328846548), (112, 0.03365276692897371), (113, 0.02256293007638612), (114, 0.049963335439910564), (115, 0.05691988033141641), (116, 0.060486578322302725), (117, 0.042187390634225164), (118, 0.1040264743594153), (119, 0.05111669836787288), (120, 0.05744349752802943), (121, 0.05396204299331359), (122, 0.04761582486093061), (123, 0.05254680019392337), (124, 0.05715532722768106), (125, 0.11594865082321086)]]\n",
      "[[('Both', 0.04262459013414131), ('British', 0.025075760844989005), ('Britons', 0.04903041603748363), ('Cameron', 0.06020033317104613), ('David', 0.026333214531887212), ('December', 0.04415412970359719), ('Defense', 0.04811074732267244), ('Donald', 0.05815196009008726), ('Economic', 0.11931570299934628), ('For', 0.02959168132279916), ('Freedom', 0.05971535836536764), ('Government', 0.13415481198228088), ('His', 0.03211574144315469), ('Home', 0.47231868629403884), ('However', 0.030836057048007164), ('If', 0.02171029158832725), ('In', 0.010896143334682175), ('Islamic', 0.06020033317104613), ('Islamist', 0.05385049693461505), ('It', 0.012443994926958522), ('Kingdom', 0.04471827066076029), ('May', 0.06246669775527645), ('Minister', 0.05000828898828664), ('Ministers', 0.05744349752802943), ('Mr', 0.1441471282421858), ('Ms', 0.045602285620904966), ('Muslims', 0.13300050199396043), ('News', 0.024134231940597245), ('Presidential', 0.06111194484675632), ('Prime', 0.08718594115466795), ('Robert', 0.05758996655149038), ('Secretary', 0.2591328100830257), ('Sky', 0.05920656325793054), ('States', 0.025439764173087864), ('Theresa', 0.05537938955999813), ('Trump', 0.09584268558475492), ('Trumps', 0.08674333627868905), ('UK', 0.21827515903195824), ('US', 0.015431183440977573), ('United', 0.04347963421246307), ('We', 0.014623744729343264), ('adding', 0.03451954481028894), ('agreed', 0.03703482684241112), ('applied', 0.060184621945046646), ('argued', 0.046851747940151116), ('attempts', 0.050074259198111246), ('ban', 0.17791506323571968), ('banning', 0.05866323671763572), ('basic', 0.05381352254034272), ('blocked', 0.051298696354008765), ('blow', 0.04792002012202818), ('borders', 0.03835872439721537), ('calling', 0.09948531997548815), ('claiming', 0.04558242747224414), ('comment', 0.11738569735555256), ('comments', 0.06703263977431011), ('communities', 0.04862486817613163), ('condemned', 0.047755355746702706), ('continue', 0.08618857105073698), ('continues', 0.0415428562041187), ('country', 0.032154396219309885), ('create', 0.04275219941574551), ('dead', 0.03618781160921087), ('decisions', 0.09821571444444695), ('divide', 0.05926214116640521), ('division', 0.06111194484675632), ('divisive', 0.17233049258408828), ('enter', 0.04627487460708436), ('entering', 0.17683074636646262), ('entry', 0.10640048456074325), ('event', 0.031395660845532636), ('evidence', 0.03710791657644527), ('feeling', 0.04988074756057997), ('freedom', 0.047872764058601525), ('gained', 0.05231395309670728), ('government', 0.07633976455873322), ('grounds', 0.05877013497241368), ('harm', 0.05948681284591183), ('hate', 0.04596491554830404), ('hit', 0.03063536229140083), ('immigration', 0.06940332373967349), ('individual', 0.046549496465958295), ('matter', 0.03644424676859828), ('merican', 0.026305376975099506), ('nation', 0.03741508496852527), ('national', 0.056669590814236934), ('outrage', 0.05778781069821269), ('pair', 0.054770309440538095), ('petition', 0.21308374977582384), ('poll', 0.03402088008176394), ('poor', 0.04869996929347165), ('potential', 0.034727884057917345), ('powerful', 0.04118204699953228), ('powers', 0.14810793506928271), ('presence', 0.09096716108649738), ('prevent', 0.04042123084593219), ('prompting', 0.05839970295288906), ('protect', 0.03717088729702007), ('rea', 0.12146639177441264), ('reads', 0.06054780388959321), ('reasons', 0.04457037164520001), ('record', 0.036534181381043175), ('reject', 0.05965785149967314), ('released', 0.031219912169187156), ('remarks', 0.21823636455254458), ('response', 0.09604661647593254), ('rich', 0.052614086184861186), ('share', 0.04052921768962327), ('signatures', 0.11830243481640904), ('society', 0.04974423438950547), ('sparked', 0.05258040049518976), ('speak', 0.1251143328846548), ('speech', 0.03365276692897371), ('statement', 0.02256293007638612), ('strength', 0.049963335439910564), ('striking', 0.05691988033141641), ('swept', 0.060486578322302725), ('terrorism', 0.042187390634225164), ('threat', 0.1040264743594153), ('track', 0.05111669836787288), ('unacceptable', 0.05744349752802943), ('unite', 0.05396204299331359), ('values', 0.04761582486093061), ('wave', 0.05254680019392337), ('weak', 0.05715532722768106), ('wrong', 0.11594865082321086)]]\n"
     ]
    }
   ],
   "source": [
    "print(corpus_tfidf[:1])\n",
    "print([[(id2word[id], freq) for id, freq in cp] for cp in corpus_tfidf[:1]])"
   ]
  },
  {
   "cell_type": "code",
   "execution_count": null,
   "metadata": {},
   "outputs": [],
   "source": []
  },
  {
   "cell_type": "code",
   "execution_count": null,
   "metadata": {},
   "outputs": [],
   "source": []
  },
  {
   "cell_type": "code",
   "execution_count": null,
   "metadata": {},
   "outputs": [],
   "source": [
    "#tf-idf skl"
   ]
  },
  {
   "cell_type": "code",
   "execution_count": 3,
   "metadata": {},
   "outputs": [],
   "source": [
    "from sklearn.feature_extraction.text import TfidfVectorizer\n",
    "\n",
    "tfidf_vec = TfidfVectorizer(token_pattern=r\"(?u)\\b\\w+\\b\",min_df=3,max_df=0.5,max_features=3000)\n",
    "tfidf_matrix = tfidf_vec.fit_transform(data_list)"
   ]
  },
  {
   "cell_type": "code",
   "execution_count": 4,
   "metadata": {},
   "outputs": [
    {
     "name": "stdout",
     "output_type": "stream",
     "text": [
      "20808 3000\n"
     ]
    }
   ],
   "source": [
    "end_tfidf=tfidf_matrix.toarray().tolist()\n",
    "print(len(end_tfidf),len(end_tfidf[0]))"
   ]
  },
  {
   "cell_type": "code",
   "execution_count": 6,
   "metadata": {},
   "outputs": [
    {
     "name": "stdout",
     "output_type": "stream",
     "text": [
      "20808 1\n",
      "0.7501537622999119\n",
      "0.8549134847634566\n"
     ]
    }
   ],
   "source": [
    "topic=read_list('./topic.txt')\n",
    "print(len(topic),len(topic[0]))\n",
    "from sklearn.cluster import KMeans\n",
    "from sklearn import metrics\n",
    "y_pred = KMeans(n_clusters=11, random_state=9).fit(end_tfidf)\n",
    "print(metrics.adjusted_rand_score(topic, y_pred.labels_))\n",
    "print(metrics.adjusted_mutual_info_score(topic, y_pred.labels_)) "
   ]
  },
  {
   "cell_type": "code",
   "execution_count": null,
   "metadata": {},
   "outputs": [],
   "source": []
  },
  {
   "cell_type": "code",
   "execution_count": null,
   "metadata": {},
   "outputs": [],
   "source": []
  },
  {
   "cell_type": "code",
   "execution_count": null,
   "metadata": {},
   "outputs": [],
   "source": []
  },
  {
   "cell_type": "code",
   "execution_count": null,
   "metadata": {},
   "outputs": [],
   "source": []
  },
  {
   "cell_type": "code",
   "execution_count": null,
   "metadata": {},
   "outputs": [],
   "source": []
  },
  {
   "cell_type": "code",
   "execution_count": null,
   "metadata": {},
   "outputs": [],
   "source": []
  },
  {
   "cell_type": "code",
   "execution_count": null,
   "metadata": {},
   "outputs": [],
   "source": [
    "#tf-idf gensim"
   ]
  },
  {
   "cell_type": "code",
   "execution_count": 32,
   "metadata": {},
   "outputs": [],
   "source": [
    "tfidf_features=[]\n",
    "for i in corpus_tfidf:\n",
    "    new_feature=[0 for k in range(3000)]\n",
    "    for j in i:\n",
    "        new_feature[j[0]]=j[1]\n",
    "#         print(j)#(66, 0.17233049258408828)\n",
    "#     print(new_feature)\n",
    "    tfidf_features.append(new_feature)"
   ]
  },
  {
   "cell_type": "code",
   "execution_count": 33,
   "metadata": {},
   "outputs": [
    {
     "name": "stdout",
     "output_type": "stream",
     "text": [
      "20808 3000\n"
     ]
    }
   ],
   "source": [
    "print(len(tfidf_features),len(tfidf_features[0]))"
   ]
  },
  {
   "cell_type": "code",
   "execution_count": 36,
   "metadata": {},
   "outputs": [
    {
     "name": "stdout",
     "output_type": "stream",
     "text": [
      "20808 1\n",
      "0.7741796968672336\n",
      "0.8697602395638444\n"
     ]
    }
   ],
   "source": [
    "topic=read_list('./topic.txt')\n",
    "print(len(topic),len(topic[0]))\n",
    "from sklearn.cluster import KMeans\n",
    "from sklearn import metrics\n",
    "y_pred = KMeans(n_clusters=11, random_state=9).fit(tfidf_features)\n",
    "print(metrics.adjusted_rand_score(topic, y_pred.labels_))\n",
    "print(metrics.adjusted_mutual_info_score(topic, y_pred.labels_)) "
   ]
  },
  {
   "cell_type": "code",
   "execution_count": null,
   "metadata": {},
   "outputs": [],
   "source": []
  },
  {
   "cell_type": "code",
   "execution_count": null,
   "metadata": {},
   "outputs": [],
   "source": [
    "#LDA"
   ]
  },
  {
   "cell_type": "code",
   "execution_count": 6,
   "metadata": {},
   "outputs": [],
   "source": [
    "ldamodel = models.LdaModel(corpus=corpus, id2word=id2word, num_topics=50)"
   ]
  },
  {
   "cell_type": "code",
   "execution_count": 8,
   "metadata": {},
   "outputs": [],
   "source": [
    "# 得到每条新闻的主题分布\n",
    "topics_test = ldamodel.get_document_topics(corpus)"
   ]
  },
  {
   "cell_type": "code",
   "execution_count": 10,
   "metadata": {},
   "outputs": [
    {
     "name": "stdout",
     "output_type": "stream",
     "text": [
      "[(10, 0.025198294), (19, 0.09831426), (21, 0.19759408), (28, 0.060530365), (32, 0.043816786), (35, 0.32042778), (43, 0.17735608), (44, 0.034017142), (49, 0.038982354)] [(1, 0.11209983), (19, 0.014752755), (21, 0.05402794), (31, 0.075914614), (34, 0.08716064), (43, 0.06077277), (47, 0.5889458)]\n"
     ]
    }
   ],
   "source": [
    "print(topics_test[0],topics_test[1])"
   ]
  },
  {
   "cell_type": "code",
   "execution_count": 11,
   "metadata": {},
   "outputs": [],
   "source": [
    "ida_features=[]\n",
    "for i in topics_test:\n",
    "    new_feature=[0 for k in range(50)]\n",
    "    for j in i:\n",
    "        new_feature[j[0]]=j[1]\n",
    "#         print(j)#(66, 0.17233049258408828)\n",
    "#     print(new_feature)\n",
    "    ida_features.append(new_feature)"
   ]
  },
  {
   "cell_type": "code",
   "execution_count": 14,
   "metadata": {},
   "outputs": [
    {
     "name": "stdout",
     "output_type": "stream",
     "text": [
      "20808 1\n",
      "0.3606933372953134\n",
      "0.6195055143602893\n"
     ]
    }
   ],
   "source": [
    "topic=read_list('./topic.txt')\n",
    "print(len(topic),len(topic[0]))\n",
    "from sklearn.cluster import KMeans\n",
    "from sklearn import metrics\n",
    "y_pred = KMeans(n_clusters=11, random_state=9).fit(ida_features)\n",
    "print(metrics.adjusted_rand_score(topic, y_pred.labels_))\n",
    "print(metrics.adjusted_mutual_info_score(topic, y_pred.labels_)) "
   ]
  },
  {
   "cell_type": "code",
   "execution_count": null,
   "metadata": {},
   "outputs": [],
   "source": []
  },
  {
   "cell_type": "code",
   "execution_count": null,
   "metadata": {},
   "outputs": [],
   "source": [
    "#LDA tf-idf"
   ]
  },
  {
   "cell_type": "code",
   "execution_count": 15,
   "metadata": {},
   "outputs": [],
   "source": [
    "ldamodel_tfidf = models.LdaModel(corpus=corpus_tfidf, id2word=id2word, num_topics=50)"
   ]
  },
  {
   "cell_type": "code",
   "execution_count": 16,
   "metadata": {},
   "outputs": [],
   "source": [
    "# 得到每条新闻的主题分布\n",
    "topics_test_tfidf = ldamodel_tfidf.get_document_topics(corpus_tfidf)"
   ]
  },
  {
   "cell_type": "code",
   "execution_count": 17,
   "metadata": {},
   "outputs": [],
   "source": [
    "ida_features_tfidf=[]\n",
    "for i in topics_test_tfidf:\n",
    "    new_feature=[0 for k in range(50)]\n",
    "    for j in i:\n",
    "        new_feature[j[0]]=j[1]\n",
    "#         print(j)#(66, 0.17233049258408828)\n",
    "#     print(new_feature)\n",
    "    ida_features_tfidf.append(new_feature)"
   ]
  },
  {
   "cell_type": "code",
   "execution_count": 18,
   "metadata": {},
   "outputs": [
    {
     "name": "stdout",
     "output_type": "stream",
     "text": [
      "0.44868141439889375\n",
      "0.6272560040385382\n"
     ]
    }
   ],
   "source": [
    "y_pred = KMeans(n_clusters=11, random_state=9).fit(ida_features_tfidf)\n",
    "print(metrics.adjusted_rand_score(topic, y_pred.labels_))\n",
    "print(metrics.adjusted_mutual_info_score(topic, y_pred.labels_)) "
   ]
  },
  {
   "cell_type": "code",
   "execution_count": null,
   "metadata": {},
   "outputs": [],
   "source": []
  }
 ],
 "metadata": {
  "kernelspec": {
   "display_name": "bj1",
   "language": "python",
   "name": "bj1"
  },
  "language_info": {
   "codemirror_mode": {
    "name": "ipython",
    "version": 3
   },
   "file_extension": ".py",
   "mimetype": "text/x-python",
   "name": "python",
   "nbconvert_exporter": "python",
   "pygments_lexer": "ipython3",
   "version": "3.7.11"
  }
 },
 "nbformat": 4,
 "nbformat_minor": 2
}
