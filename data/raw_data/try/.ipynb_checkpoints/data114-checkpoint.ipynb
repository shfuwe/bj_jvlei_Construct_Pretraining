{
 "cells": [
  {
   "cell_type": "code",
   "execution_count": 11,
   "metadata": {},
   "outputs": [],
   "source": [
    "path='../11.8/'"
   ]
  },
  {
   "cell_type": "code",
   "execution_count": 27,
   "metadata": {},
   "outputs": [
    {
     "name": "stderr",
     "output_type": "stream",
     "text": [
      "62454it [00:09, 6388.55it/s]"
     ]
    },
    {
     "name": "stdout",
     "output_type": "stream",
     "text": [
      "0\n"
     ]
    },
    {
     "name": "stderr",
     "output_type": "stream",
     "text": [
      "\n"
     ]
    }
   ],
   "source": [
    "import jsonlines\n",
    "from tqdm import tqdm\n",
    "sum0=0\n",
    "for line in tqdm(jsonlines.open('../docs_not_lemmatize_kw.jsonl')):\n",
    "    sum0+=1\n",
    "print(sum0)"
   ]
  },
  {
   "cell_type": "code",
   "execution_count": 19,
   "metadata": {},
   "outputs": [
    {
     "name": "stderr",
     "output_type": "stream",
     "text": [
      "62454it [00:09, 6842.29it/s]"
     ]
    },
    {
     "name": "stdout",
     "output_type": "stream",
     "text": [
      "{'GROUP-682': 513, 'GROUP-309': 380, 'GROUP-227': 595, 'GROUP-25': 8957, 'GROUP-163': 893, 'GROUP-109': 1501, 'GROUP-831': 612, 'GROUP-47': 363, 'GROUP-654': 416, 'GROUP-1865': 105, 'GROUP-58': 143, 'GROUP-1970': 183, 'GROUP-62': 2604, 'GROUP-145': 2738, 'GROUP-1358': 121, 'GROUP-178': 290, 'GROUP-1111': 130, 'GROUP-130': 384, 'GROUP-1040': 280, 'GROUP-340': 227, 'GROUP-165': 5906, 'GROUP-1863': 186, 'GROUP-618': 329, 'GROUP-357': 281, 'GROUP-8': 466, 'GROUP-22': 370, 'GROUP-292': 215, 'GROUP-1026': 313, 'GROUP-112': 2031, 'GROUP-1718': 211, 'GROUP-408': 331, 'GROUP-413': 157, 'GROUP-1073': 128, 'GROUP-2209': 191, 'GROUP-694': 173, 'GROUP-275': 194, 'GROUP-311': 743, 'GROUP-880': 225, 'GROUP-1325': 107, 'GROUP-849': 386, 'GROUP-2115': 147, 'GROUP-1432': 144, 'GROUP-83': 176, 'GROUP-155': 160, 'GROUP-1236': 310, 'GROUP-550': 121, 'GROUP-164': 464, 'GROUP-328': 109, 'GROUP-270': 301, 'GROUP-1004': 542, 'GROUP-1179': 102, 'GROUP-20': 370, 'GROUP-523': 165, 'GROUP-1721': 201, 'GROUP-2210': 779, 'GROUP-186': 790, 'GROUP-2249': 170, 'GROUP-1704': 155, 'GROUP-135': 151, 'GROUP-1981': 142, 'GROUP-600': 299, 'GROUP-202': 435, 'GROUP-1964': 107, 'GROUP-217': 166, 'GROUP-299': 119, 'GROUP-1809': 215, 'GROUP-103': 202, 'GROUP-634': 179, 'GROUP-712': 161, 'GROUP-778': 118, 'GROUP-316': 1277, 'GROUP-184': 1003, 'GROUP-1548': 146, 'GROUP-381': 120, 'GROUP-1669': 1136, 'GROUP-646': 134, 'GROUP-255': 540, 'GROUP-1500': 119, 'GROUP-456': 173, 'GROUP-1920': 143, 'GROUP-345': 116, 'GROUP-1768': 168, 'GROUP-33': 114, 'GROUP-281': 139, 'GROUP-1898': 129, 'GROUP-66': 155, 'GROUP-896': 317, 'GROUP-98': 164, 'GROUP-684': 984, 'GROUP-913': 295, 'GROUP-95': 105, 'GROUP-2075': 111, 'GROUP-1450': 129, 'GROUP-366': 106, 'GROUP-1128': 144, 'GROUP-218': 241, 'GROUP-2149': 263, 'GROUP-1379': 328, 'GROUP-1246': 563, 'GROUP-1370': 125, 'GROUP-971': 180, 'GROUP-254': 421, 'GROUP-1254': 257, 'GROUP-374': 464, 'GROUP-102': 121, 'GROUP-412': 129, 'GROUP-387': 139, 'GROUP-1222': 155, 'GROUP-80': 969, 'GROUP-953': 120, 'GROUP-480': 110, 'GROUP-2007': 140, 'GROUP-170': 259, 'GROUP-386': 535, 'GROUP-1657': 136, 'GROUP-1134': 1024, 'GROUP-873': 373, 'GROUP-1565': 126, 'GROUP-1079': 322, 'GROUP-777': 130, 'GROUP-1562': 143, 'GROUP-923': 128, 'GROUP-13': 160, 'GROUP-1551': 111, 'GROUP-1874': 166, 'GROUP-226': 727, 'GROUP-278': 177, 'GROUP-229': 1822, 'GROUP-1330': 111, 'GROUP-1016': 128, 'GROUP-242': 522, 'GROUP-1329': 302, 'GROUP-1100': 107, 'GROUP-306': 111, 'GROUP-921': 264}\n"
     ]
    },
    {
     "name": "stderr",
     "output_type": "stream",
     "text": [
      "\n"
     ]
    }
   ],
   "source": [
    "def store_list(lsit, text_path):\n",
    "    ff = open(text_path, encoding='utf-8', mode='w')\n",
    "    for line_list in lsit:\n",
    "        ff.write(str(line_list))  # 写入一个新文件中\n",
    "        ff.write(\"\\n\")\n",
    "        \n",
    "\n",
    "def get_num():\n",
    "    dic = {}\n",
    "    for line in tqdm(jsonlines.open('../docs_not_lemmatize_kw.jsonl')):\n",
    "        if 'topic' in line:\n",
    "            topic = line['topic']\n",
    "#             print(topic)\n",
    "            if topic not in dic:\n",
    "                dic[topic] = 1\n",
    "            else:\n",
    "                dic[topic] += 1\n",
    "\n",
    "    print(dic)\n",
    "    nums_l = []\n",
    "    for i in dic:\n",
    "        nums_l.append([i,dic[i]])\n",
    "        \n",
    "    def takeSecond(elem):\n",
    "        return elem[1]\n",
    "    \n",
    "    nums_l.sort(key=takeSecond)\n",
    "\n",
    "    store_list(nums_l, path+'nums_l.txt')\n",
    "\n",
    "#     dic_l = []\n",
    "#     for i in dic:\n",
    "#         if dic[i] > 1000:\n",
    "#             dic_l.append(i)\n",
    "#     store_list(dic_l, './ok_topic.txt')\n",
    "\n",
    "get_num()#135类"
   ]
  },
  {
   "cell_type": "code",
   "execution_count": 22,
   "metadata": {},
   "outputs": [
    {
     "name": "stdout",
     "output_type": "stream",
     "text": [
      "GROUP-1179\n"
     ]
    }
   ],
   "source": [
    "import ast\n",
    "def read_list(text_path):\n",
    "    lsit=[]\n",
    "    with open('%s' % text_path, 'r', encoding=\"utf8\") as f:  # 打开一个文件只读模式\n",
    "        line = f.readlines()  # 读取文件中的每一行，放入line列表中\n",
    "        for line_list in line:\n",
    "            line = ast.literal_eval(line_list)\n",
    "            lsit.append(line)\n",
    "    return lsit\n",
    "\n",
    "ok_topic = read_list(path+'nums_l.txt')\n",
    "ok_topic=[i[0] for i in ok_topic]\n",
    "print(ok_topic[0])"
   ]
  },
  {
   "cell_type": "code",
   "execution_count": 25,
   "metadata": {},
   "outputs": [
    {
     "name": "stderr",
     "output_type": "stream",
     "text": [
      "62454it [00:10, 6118.23it/s]\n"
     ]
    }
   ],
   "source": [
    "data_list = []\n",
    "topic_list = []\n",
    "for line in tqdm(jsonlines.open('../docs_not_lemmatize_kw.jsonl')):\n",
    "    if 'topic' in line:\n",
    "        topic = line['topic']\n",
    "        text = line['objects'][0]['text']\n",
    "#         if len(text) < 100 or len(text) > 5000:\n",
    "#             print('skip')\n",
    "#             continue\n",
    "        data_list.append(text.replace('\\n', ' '))\n",
    "        topic_list.append(ok_topic.index(topic))\n",
    "\n",
    "store_list(data_list, path+'text.txt')\n",
    "store_list(topic_list, path+'topic.txt')"
   ]
  },
  {
   "cell_type": "code",
   "execution_count": null,
   "metadata": {},
   "outputs": [],
   "source": [
    "#135类 45241条"
   ]
  },
  {
   "cell_type": "code",
   "execution_count": 26,
   "metadata": {},
   "outputs": [
    {
     "name": "stdout",
     "output_type": "stream",
     "text": [
      "{109: 513, 100: 380, 115: 595, 134: 8957, 121: 893, 128: 1501, 116: 612, 96: 363, 103: 416, 1: 105, 39: 143, 66: 183, 131: 2604, 132: 2738, 20: 121, 84: 290, 31: 130, 101: 384, 82: 280, 76: 227, 133: 5906, 67: 186, 94: 329, 83: 281, 108: 466, 97: 370, 73: 215, 90: 313, 130: 2031, 72: 211, 95: 331, 50: 157, 25: 128, 68: 191, 60: 173, 69: 194, 118: 743, 75: 225, 4: 107, 102: 386, 45: 147, 42: 144, 62: 176, 51: 160, 89: 310, 21: 121, 106: 464, 7: 109, 87: 301, 113: 542, 0: 102, 98: 370, 55: 165, 70: 201, 119: 779, 120: 790, 59: 170, 47: 155, 46: 151, 38: 142, 86: 299, 105: 435, 5: 107, 56: 166, 16: 119, 74: 215, 71: 202, 64: 179, 53: 161, 15: 118, 127: 1277, 124: 1003, 44: 146, 18: 120, 126: 1136, 33: 134, 112: 540, 17: 119, 61: 173, 40: 143, 14: 116, 58: 168, 13: 114, 35: 139, 28: 129, 48: 155, 91: 317, 54: 164, 123: 984, 85: 295, 2: 105, 9: 111, 29: 129, 3: 106, 43: 144, 77: 241, 80: 263, 93: 328, 114: 563, 23: 125, 65: 180, 104: 421, 78: 257, 107: 464, 22: 121, 30: 129, 36: 139, 49: 155, 122: 969, 19: 120, 8: 110, 37: 140, 79: 259, 111: 535, 34: 136, 125: 1024, 99: 373, 24: 126, 92: 322, 32: 130, 41: 143, 26: 128, 52: 160, 10: 111, 57: 166, 117: 727, 63: 177, 129: 1822, 11: 111, 27: 128, 110: 522, 88: 302, 6: 107, 12: 111, 81: 264} 62454\n"
     ]
    }
   ],
   "source": [
    "dic={}\n",
    "sum0=0\n",
    "for i in topic_list:\n",
    "    sum0+=1\n",
    "    if i not in dic:\n",
    "        dic[i]=1\n",
    "    else:\n",
    "        dic[i]+=1\n",
    "\n",
    "print(dic,sum0)\n",
    "    "
   ]
  },
  {
   "cell_type": "code",
   "execution_count": null,
   "metadata": {},
   "outputs": [],
   "source": []
  }
 ],
 "metadata": {
  "kernelspec": {
   "display_name": "bj1",
   "language": "python",
   "name": "bj1"
  },
  "language_info": {
   "codemirror_mode": {
    "name": "ipython",
    "version": 3
   },
   "file_extension": ".py",
   "mimetype": "text/x-python",
   "name": "python",
   "nbconvert_exporter": "python",
   "pygments_lexer": "ipython3",
   "version": "3.7.11"
  }
 },
 "nbformat": 4,
 "nbformat_minor": 2
}
