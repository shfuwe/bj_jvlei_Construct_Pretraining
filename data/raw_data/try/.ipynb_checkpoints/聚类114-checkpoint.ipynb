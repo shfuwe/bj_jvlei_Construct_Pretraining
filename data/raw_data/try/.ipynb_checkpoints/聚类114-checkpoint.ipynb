{
 "cells": [
  {
   "cell_type": "code",
   "execution_count": 1,
   "metadata": {},
   "outputs": [],
   "source": [
    "path='../11.8/'"
   ]
  },
  {
   "cell_type": "code",
   "execution_count": 2,
   "metadata": {},
   "outputs": [
    {
     "name": "stdout",
     "output_type": "stream",
     "text": [
      "62454 3\n"
     ]
    }
   ],
   "source": [
    "def read_list(text_path):\n",
    "    lsit=[]\n",
    "    with open('%s' % text_path, 'r', encoding=\"utf8\") as f:  # 打开一个文件只读模式\n",
    "        line = f.readlines()  # 读取文件中的每一行，放入line列表中\n",
    "        for line_list in line:\n",
    "            lsit.append(line_list.replace('\\n',''))\n",
    "    return lsit\n",
    "topic=read_list(path+'topic.txt')\n",
    "print(len(topic),len(topic[0]))"
   ]
  },
  {
   "cell_type": "code",
   "execution_count": 3,
   "metadata": {},
   "outputs": [],
   "source": [
    "# bert simpletransformers text representation\n",
    "import matplotlib.pyplot as plt\n",
    "from sklearn.cluster import KMeans\n",
    "from sklearn import metrics"
   ]
  },
  {
   "cell_type": "code",
   "execution_count": 7,
   "metadata": {},
   "outputs": [
    {
     "name": "stdout",
     "output_type": "stream",
     "text": [
      "62453\r"
     ]
    }
   ],
   "source": [
    "# # 去除标点\n",
    "# import sys\n",
    "# def get_st():\n",
    "#     return read_list(\"../../st1.txt\")\n",
    "# st = get_st()\n",
    "# data_list0 = read_list(path+'text.txt')\n",
    "# # data_list0=data_list0[0:1]\n",
    "# data_list=[]\n",
    "# i_n=0\n",
    "# for i in data_list0:\n",
    "#     sys.stdout.write(str(i_n) + '\\r')\n",
    "#     i_n=i_n+1\n",
    "#     for j in st:#去除标点符号\n",
    "#         i=i.replace(j,'')\n",
    "#     data_list.append(i)\n",
    "# # print(data_list)"
   ]
  },
  {
   "cell_type": "code",
   "execution_count": 8,
   "metadata": {},
   "outputs": [
    {
     "name": "stdout",
     "output_type": "stream",
     "text": [
      "The father and son of a prominent Oregon ranching family plan to surrender at a California prison next week after a judge ruled they served too little time for setting fires that spread to government lands they leased to graze cattle Dwight Hammond 73 and Steven Hammond 46 said they lit the fires in 2001 and 2006 to reduce the growth of invasive plants and protect their property from wildfires The two were convicted of the arsons three years ago and served time  the father three months the son one year But a judge ruled their terms were too short under federal law and ordered them back to prison for about four years each The decision has generated controversy in a remote part of the state where the Hammonds are wellknown for their generosity and community contributions Its also playing into a longsimmering conflict between ranchers and the US government over the use of federal land for cattle grazing In particular the Hammonds new sentences touched a nerve with far right groups who repudiate federal authority The son of Nevada rancher Cliven Bundy who was involved in a standoff with the government over grazing rights is organizing opposition In 2014 after the Bureau of Land Management sought to remove Bundys cattle from public rangeland armed militiamen confronted federal officials Bundy stopped paying grazing fees over 20 years ago and owes more than 1 million This month his son mmon Bundy and a handful of militiamen from other states arrived in Burns some 60 miles from the Hammond ranch In an email to porters mmon Bundy criticized the US government for a failed legal process Federal lawyers prosecuted the Hammonds under an antiterrorism law that required a fiveyear minimum sentence though they have declined to say why mmon Bundy wrote that the Hammonds are not terrorists and didnt commit any crimes He also shamed the Harney County sheriff for not protecting the Hammonds The sheriff didnt respond to calls from The ssociated Press mmon Bundy and other rightwing leaders have called on armed militia around the country to come port the Hammonds The groups will hold a rally and protest in town Saturday If what is happening to the Hammonds is allowed it will set a standard of what these powerful people will do to all of us mmon Bundy wrote in an email referring to the federal government The Hammonds have not welcomed the Bundys help Neither mmon Bundy nor anyone within his grouporganization speak for the Hammond Family the Hammonds lawyer W lan Schroeder wrote to Sheriff David Ward Dwight Hammond said he and his son plan to peacefully report to prison Jan 4 as ordered by the judge We gave our word thats what we would do and we intend to act on it he told the P Prosecutors said the Hammonds grazing leases didnt give them exclusive use of the land or permission to burn public property The fire charred just under 140 acres Though the family doesnt want confrontation Dwight Hammond maintained their case isnt about fires Its the climax of the governments efforts to take their land at a time when saving endangered species has gained in importance Dwight Hammond said he and his own father bought the ranch in 1964 the purchase price included several federal grazing allotments  the rights to lease public land for cattle grazing But as the Malheur National Wildlife Refuge came to surround the Hammonds property the rancher said the family had to stave off pressure from the federal government to sell the ranch Over the years the government chipped away at their grazing allotments taking some and increasing fees on others Dwight Hammond said New federal rules made it harder to renew permits fter father and son were convicted of the arsons the government declined to renew their grazing permit The family is appealing that decision We paid hard dollars over fifty years ago for the right to graze It isnt right for them to take it away from us Dwight Hammond said adding theyve had to rent pastures from other ranchers to keep their cows fed n attorney for the ranchers Kendra Mathews declined to discuss the case The US attorneys office also wouldnt comment But in an opinion piece published this month in the Burns Times Herald Oregons US attorney Bill Williams said the Hammonds received a fair trial and lawful sentences Williams said the government has never called the ranchers terrorists and prosecutors acknowledged they were good people who contributed to their community Referring to the militia Williams said ny criminal behavior contemplated by those who may object to the courts mandate  will not be tolerated s for the Hammonds they hope to keep the family business going with help from relatives Maybe Dwight Hammond said when his son gets out of prison he can still have a family and a ranch to go back to\n"
     ]
    }
   ],
   "source": [
    "# print(data_list[0])"
   ]
  },
  {
   "cell_type": "code",
   "execution_count": 10,
   "metadata": {},
   "outputs": [
    {
     "name": "stdout",
     "output_type": "stream",
     "text": [
      "The father son prominent Oregon ranching family plan surrender California prison judge ruled served setting fires spread government lands leased graze cattle Dwight Hammond Steven Hammond lit fires reduce growth invasive plants protect property wildfires The convicted arsons served  father months son But judge ruled terms federal law prison The decision generated controversy remote Hammonds wellknown generosity community contributions Its playing longsimmering conflict ranchers US government federal land cattle grazing In Hammonds sentences touched nerve repudiate federal authority The son Nevada rancher Cliven Bundy involved standoff government grazing rights organizing opposition In Bureau Land Management sought remove Bundys cattle rangeland armed militiamen confronted federal officials Bundy paying grazing fees owes This son mmon Bundy handful militiamen arrived Burns miles Hammond ranch In email porters mmon Bundy criticized US government failed legal Federal lawyers prosecuted Hammonds antiterrorism law fiveyear minimum sentence declined mmon Bundy wrote Hammonds terrorists commit crimes He shamed Harney County sheriff protecting Hammonds The sheriff respond calls The ssociated Press mmon Bundy rightwing leaders armed militia country port Hammonds The hold rally protest town Saturday If happening Hammonds standard powerful mmon Bundy wrote email referring federal government The Hammonds welcomed Bundys Neither mmon Bundy grouporganization speak Hammond Family Hammonds lawyer W lan Schroeder wrote Sheriff David Ward Dwight Hammond son plan peacefully prison Jan judge We word intend P Prosecutors Hammonds grazing leases land permission burn property The charred 140 acres Though family confrontation Dwight Hammond maintained fires Its climax governments efforts land endangered species gained Dwight Hammond father bought ranch 1964 purchase price federal grazing allotments  rights lease land cattle grazing But Malheur National Wildlife Refuge surround Hammonds property rancher family pressure federal government sell ranch Over government chipped grazing allotments fees Dwight Hammond New federal rules harder renew permits fter father son convicted arsons government declined renew grazing permit The family appealing decision We paid dollars graze It Dwight Hammond adding rent pastures ranchers cows fed attorney ranchers Kendra Mathews declined The US attorneys office comment But opinion piece Burns Times Herald Oregons US attorney Bill Williams Hammonds fair trial lawful sentences Williams government ranchers terrorists prosecutors acknowledged contributed community Referring militia Williams ny criminal behavior contemplated object courts mandate  tolerated Hammonds family business relatives Maybe Dwight Hammond son prison family ranch to\n"
     ]
    }
   ],
   "source": [
    "# # 再去除一下停用词\n",
    "# import sys\n",
    "# def get_st():\n",
    "#     return read_list(\"../../stopwords0.txt\")\n",
    "# st = get_st()\n",
    "# # data_list0 = read_list('./text.txt')\n",
    "# # data_list0=data_list0[0:1]\n",
    "# data_list1=[]\n",
    "# i_n=0\n",
    "# for i in data_list:\n",
    "#     sys.stdout.write(str(i_n) + '\\r')\n",
    "#     i_n=i_n+1\n",
    "#     for j in st:#去除标点符号\n",
    "#         i=i.replace(\" \"+j+\" \",' ')\n",
    "#     data_list1.append(i)\n",
    "# print(data_list1[0])"
   ]
  },
  {
   "cell_type": "code",
   "execution_count": 11,
   "metadata": {},
   "outputs": [
    {
     "name": "stdout",
     "output_type": "stream",
     "text": [
      "The father son prominent Oregon ranching family plan surrender California prison judge ruled served setting fires spread government lands leased graze cattle Dwight Hammond Steven Hammond lit fires reduce growth invasive plants protect property wildfires The convicted arsons served  father months son But judge ruled terms federal law prison The decision generated controversy remote Hammonds wellknown generosity community contributions Its playing longsimmering conflict ranchers US government federal land cattle grazing In Hammonds sentences touched nerve repudiate federal authority The son Nevada rancher Cliven Bundy involved standoff government grazing rights organizing opposition In Bureau Land Management sought remove Bundys cattle rangeland armed militiamen confronted federal officials Bundy paying grazing fees owes This son mmon Bundy handful militiamen arrived Burns miles Hammond ranch In email porters mmon Bundy criticized US government failed legal Federal lawyers prosecuted Hammonds antiterrorism law fiveyear minimum sentence declined mmon Bundy wrote Hammonds terrorists commit crimes He shamed Harney County sheriff protecting Hammonds The sheriff respond calls The ssociated Press mmon Bundy rightwing leaders armed militia country port Hammonds The hold rally protest town Saturday If happening Hammonds standard powerful mmon Bundy wrote email referring federal government The Hammonds welcomed Bundys Neither mmon Bundy grouporganization speak Hammond Family Hammonds lawyer W lan Schroeder wrote Sheriff David Ward Dwight Hammond son plan peacefully prison Jan judge We word intend P Prosecutors Hammonds grazing leases land permission burn property The charred  acres Though family confrontation Dwight Hammond maintained fires Its climax governments efforts land endangered species gained Dwight Hammond father bought ranch  purchase price federal grazing allotments  rights lease land cattle grazing But Malheur National Wildlife Refuge surround Hammonds property rancher family pressure federal government sell ranch Over government chipped grazing allotments fees Dwight Hammond New federal rules harder renew permits fter father son convicted arsons government declined renew grazing permit The family appealing decision We paid dollars graze It Dwight Hammond adding rent pastures ranchers cows fed attorney ranchers Kendra Mathews declined The US attorneys office comment But opinion piece Burns Times Herald Oregons US attorney Bill Williams Hammonds fair trial lawful sentences Williams government ranchers terrorists prosecutors acknowledged contributed community Referring militia Williams ny criminal behavior contemplated object courts mandate  tolerated Hammonds family business relatives Maybe Dwight Hammond son prison family ranch to\n"
     ]
    }
   ],
   "source": [
    "# #去除数字\n",
    "# import re\n",
    "# for i in range(len(data_list1)):\n",
    "#     data_list1[i]=re.sub(r'\\b\\d+\\b','',data_list1[i])\n",
    "# print(data_list1[0])"
   ]
  },
  {
   "cell_type": "code",
   "execution_count": 13,
   "metadata": {},
   "outputs": [],
   "source": [
    "# def store_list(lsit, text_path):\n",
    "#     ff = open(text_path, encoding='utf-8', mode='w')\n",
    "#     for line_list in lsit:\n",
    "#         ff.write(str(line_list))  # 写入一个新文件中\n",
    "#         ff.write(\"\\n\")\n",
    "# store_list(data_list1, path+'data_list_clear_stop.txt')"
   ]
  },
  {
   "cell_type": "code",
   "execution_count": null,
   "metadata": {},
   "outputs": [],
   "source": []
  },
  {
   "cell_type": "code",
   "execution_count": 4,
   "metadata": {},
   "outputs": [
    {
     "name": "stdout",
     "output_type": "stream",
     "text": [
      "62454 2783\n"
     ]
    }
   ],
   "source": [
    "path='../11.8/'\n",
    "def read_list(text_path):\n",
    "    lsit=[]\n",
    "    with open('%s' % text_path, 'r', encoding=\"utf8\") as f:  # 打开一个文件只读模式\n",
    "        line = f.readlines()  # 读取文件中的每一行，放入line列表中\n",
    "        for line_list in line:\n",
    "            lsit.append(line_list.replace('\\n',''))\n",
    "    return lsit\n",
    "data_list=read_list( path+'data_list_clear_stop.txt')\n",
    "print(len(data_list),len(data_list[0]))"
   ]
  },
  {
   "cell_type": "code",
   "execution_count": null,
   "metadata": {},
   "outputs": [],
   "source": []
  },
  {
   "cell_type": "code",
   "execution_count": 4,
   "metadata": {},
   "outputs": [],
   "source": [
    "# word2vec"
   ]
  },
  {
   "cell_type": "code",
   "execution_count": 5,
   "metadata": {},
   "outputs": [],
   "source": [
    "import spacy#小于3.0 vector\n",
    "nlp = spacy.load('en_core_web_lg')"
   ]
  },
  {
   "cell_type": "code",
   "execution_count": null,
   "metadata": {},
   "outputs": [],
   "source": [
    "tokenized_list=[nlp(i) for i in data_list]\n",
    "vectored_list=list(map(lambda x: x.vector,tokenized_list))"
   ]
  },
  {
   "cell_type": "code",
   "execution_count": null,
   "metadata": {},
   "outputs": [],
   "source": [
    "y_pred = KMeans(n_clusters=135, random_state=9).fit(vectored_list)\n",
    "print(metrics.adjusted_rand_score(topic, y_pred.labels_))\n",
    "print(metrics.adjusted_mutual_info_score(topic, y_pred.labels_)) "
   ]
  },
  {
   "cell_type": "code",
   "execution_count": null,
   "metadata": {},
   "outputs": [],
   "source": []
  },
  {
   "cell_type": "code",
   "execution_count": null,
   "metadata": {},
   "outputs": [],
   "source": [
    "#tf-idf skl"
   ]
  },
  {
   "cell_type": "code",
   "execution_count": null,
   "metadata": {},
   "outputs": [],
   "source": [
    "from sklearn.feature_extraction.text import TfidfVectorizer\n",
    "\n",
    "tfidf_vec = TfidfVectorizer(token_pattern=r\"(?u)\\b\\w+\\b\",min_df=3,max_df=0.5,max_features=3000)\n",
    "tfidf_matrix = tfidf_vec.fit_transform(data_list)"
   ]
  },
  {
   "cell_type": "code",
   "execution_count": null,
   "metadata": {},
   "outputs": [],
   "source": [
    "end_tfidf=tfidf_matrix.toarray().tolist()\n",
    "print(len(end_tfidf),len(end_tfidf[0]))"
   ]
  },
  {
   "cell_type": "code",
   "execution_count": null,
   "metadata": {},
   "outputs": [],
   "source": [
    "print(len(topic),len(topic[0]))\n",
    "y_pred = KMeans(n_clusters=135, random_state=9).fit(end_tfidf)\n",
    "print(metrics.adjusted_rand_score(topic, y_pred.labels_))\n",
    "print(metrics.adjusted_mutual_info_score(topic, y_pred.labels_)) "
   ]
  },
  {
   "cell_type": "code",
   "execution_count": null,
   "metadata": {},
   "outputs": [],
   "source": []
  },
  {
   "cell_type": "code",
   "execution_count": null,
   "metadata": {},
   "outputs": [],
   "source": []
  },
  {
   "cell_type": "code",
   "execution_count": null,
   "metadata": {},
   "outputs": [],
   "source": []
  },
  {
   "cell_type": "code",
   "execution_count": null,
   "metadata": {},
   "outputs": [],
   "source": [
    "#tf-idf gensim"
   ]
  },
  {
   "cell_type": "code",
   "execution_count": 5,
   "metadata": {},
   "outputs": [
    {
     "data": {
      "text/plain": [
       "['The',\n",
       " 'father',\n",
       " 'son',\n",
       " 'prominent',\n",
       " 'Oregon',\n",
       " 'ranching',\n",
       " 'family',\n",
       " 'plan',\n",
       " 'surrender',\n",
       " 'California',\n",
       " 'prison',\n",
       " 'judge',\n",
       " 'ruled',\n",
       " 'served',\n",
       " 'setting',\n",
       " 'fires',\n",
       " 'spread',\n",
       " 'government',\n",
       " 'lands',\n",
       " 'leased',\n",
       " 'graze',\n",
       " 'cattle',\n",
       " 'Dwight',\n",
       " 'Hammond',\n",
       " 'Steven',\n",
       " 'Hammond',\n",
       " 'lit',\n",
       " 'fires',\n",
       " 'reduce',\n",
       " 'growth',\n",
       " 'invasive',\n",
       " 'plants',\n",
       " 'protect',\n",
       " 'property',\n",
       " 'wildfires',\n",
       " 'The',\n",
       " 'convicted',\n",
       " 'arsons',\n",
       " 'served',\n",
       " 'father',\n",
       " 'months',\n",
       " 'son',\n",
       " 'But',\n",
       " 'judge',\n",
       " 'ruled',\n",
       " 'terms',\n",
       " 'federal',\n",
       " 'law',\n",
       " 'prison',\n",
       " 'The',\n",
       " 'decision',\n",
       " 'generated',\n",
       " 'controversy',\n",
       " 'remote',\n",
       " 'Hammonds',\n",
       " 'wellknown',\n",
       " 'generosity',\n",
       " 'community',\n",
       " 'contributions',\n",
       " 'Its',\n",
       " 'playing',\n",
       " 'longsimmering',\n",
       " 'conflict',\n",
       " 'ranchers',\n",
       " 'US',\n",
       " 'government',\n",
       " 'federal',\n",
       " 'land',\n",
       " 'cattle',\n",
       " 'grazing',\n",
       " 'In',\n",
       " 'Hammonds',\n",
       " 'sentences',\n",
       " 'touched',\n",
       " 'nerve',\n",
       " 'repudiate',\n",
       " 'federal',\n",
       " 'authority',\n",
       " 'The',\n",
       " 'son',\n",
       " 'Nevada',\n",
       " 'rancher',\n",
       " 'Cliven',\n",
       " 'Bundy',\n",
       " 'involved',\n",
       " 'standoff',\n",
       " 'government',\n",
       " 'grazing',\n",
       " 'rights',\n",
       " 'organizing',\n",
       " 'opposition',\n",
       " 'In',\n",
       " 'Bureau',\n",
       " 'Land',\n",
       " 'Management',\n",
       " 'sought',\n",
       " 'remove',\n",
       " 'Bundys',\n",
       " 'cattle',\n",
       " 'rangeland',\n",
       " 'armed',\n",
       " 'militiamen',\n",
       " 'confronted',\n",
       " 'federal',\n",
       " 'officials',\n",
       " 'Bundy',\n",
       " 'paying',\n",
       " 'grazing',\n",
       " 'fees',\n",
       " 'owes',\n",
       " 'This',\n",
       " 'son',\n",
       " 'mmon',\n",
       " 'Bundy',\n",
       " 'handful',\n",
       " 'militiamen',\n",
       " 'arrived',\n",
       " 'Burns',\n",
       " 'miles',\n",
       " 'Hammond',\n",
       " 'ranch',\n",
       " 'In',\n",
       " 'email',\n",
       " 'porters',\n",
       " 'mmon',\n",
       " 'Bundy',\n",
       " 'criticized',\n",
       " 'US',\n",
       " 'government',\n",
       " 'failed',\n",
       " 'legal',\n",
       " 'Federal',\n",
       " 'lawyers',\n",
       " 'prosecuted',\n",
       " 'Hammonds',\n",
       " 'antiterrorism',\n",
       " 'law',\n",
       " 'fiveyear',\n",
       " 'minimum',\n",
       " 'sentence',\n",
       " 'declined',\n",
       " 'mmon',\n",
       " 'Bundy',\n",
       " 'wrote',\n",
       " 'Hammonds',\n",
       " 'terrorists',\n",
       " 'commit',\n",
       " 'crimes',\n",
       " 'He',\n",
       " 'shamed',\n",
       " 'Harney',\n",
       " 'County',\n",
       " 'sheriff',\n",
       " 'protecting',\n",
       " 'Hammonds',\n",
       " 'The',\n",
       " 'sheriff',\n",
       " 'respond',\n",
       " 'calls',\n",
       " 'The',\n",
       " 'ssociated',\n",
       " 'Press',\n",
       " 'mmon',\n",
       " 'Bundy',\n",
       " 'rightwing',\n",
       " 'leaders',\n",
       " 'armed',\n",
       " 'militia',\n",
       " 'country',\n",
       " 'port',\n",
       " 'Hammonds',\n",
       " 'The',\n",
       " 'hold',\n",
       " 'rally',\n",
       " 'protest',\n",
       " 'town',\n",
       " 'Saturday',\n",
       " 'If',\n",
       " 'happening',\n",
       " 'Hammonds',\n",
       " 'standard',\n",
       " 'powerful',\n",
       " 'mmon',\n",
       " 'Bundy',\n",
       " 'wrote',\n",
       " 'email',\n",
       " 'referring',\n",
       " 'federal',\n",
       " 'government',\n",
       " 'The',\n",
       " 'Hammonds',\n",
       " 'welcomed',\n",
       " 'Bundys',\n",
       " 'Neither',\n",
       " 'mmon',\n",
       " 'Bundy',\n",
       " 'grouporganization',\n",
       " 'speak',\n",
       " 'Hammond',\n",
       " 'Family',\n",
       " 'Hammonds',\n",
       " 'lawyer',\n",
       " 'W',\n",
       " 'lan',\n",
       " 'Schroeder',\n",
       " 'wrote',\n",
       " 'Sheriff',\n",
       " 'David',\n",
       " 'Ward',\n",
       " 'Dwight',\n",
       " 'Hammond',\n",
       " 'son',\n",
       " 'plan',\n",
       " 'peacefully',\n",
       " 'prison',\n",
       " 'Jan',\n",
       " 'judge',\n",
       " 'We',\n",
       " 'word',\n",
       " 'intend',\n",
       " 'P',\n",
       " 'Prosecutors',\n",
       " 'Hammonds',\n",
       " 'grazing',\n",
       " 'leases',\n",
       " 'land',\n",
       " 'permission',\n",
       " 'burn',\n",
       " 'property',\n",
       " 'The',\n",
       " 'charred',\n",
       " 'acres',\n",
       " 'Though',\n",
       " 'family',\n",
       " 'confrontation',\n",
       " 'Dwight',\n",
       " 'Hammond',\n",
       " 'maintained',\n",
       " 'fires',\n",
       " 'Its',\n",
       " 'climax',\n",
       " 'governments',\n",
       " 'efforts',\n",
       " 'land',\n",
       " 'endangered',\n",
       " 'species',\n",
       " 'gained',\n",
       " 'Dwight',\n",
       " 'Hammond',\n",
       " 'father',\n",
       " 'bought',\n",
       " 'ranch',\n",
       " 'purchase',\n",
       " 'price',\n",
       " 'federal',\n",
       " 'grazing',\n",
       " 'allotments',\n",
       " 'rights',\n",
       " 'lease',\n",
       " 'land',\n",
       " 'cattle',\n",
       " 'grazing',\n",
       " 'But',\n",
       " 'Malheur',\n",
       " 'National',\n",
       " 'Wildlife',\n",
       " 'Refuge',\n",
       " 'surround',\n",
       " 'Hammonds',\n",
       " 'property',\n",
       " 'rancher',\n",
       " 'family',\n",
       " 'pressure',\n",
       " 'federal',\n",
       " 'government',\n",
       " 'sell',\n",
       " 'ranch',\n",
       " 'Over',\n",
       " 'government',\n",
       " 'chipped',\n",
       " 'grazing',\n",
       " 'allotments',\n",
       " 'fees',\n",
       " 'Dwight',\n",
       " 'Hammond',\n",
       " 'New',\n",
       " 'federal',\n",
       " 'rules',\n",
       " 'harder',\n",
       " 'renew',\n",
       " 'permits',\n",
       " 'fter',\n",
       " 'father',\n",
       " 'son',\n",
       " 'convicted',\n",
       " 'arsons',\n",
       " 'government',\n",
       " 'declined',\n",
       " 'renew',\n",
       " 'grazing',\n",
       " 'permit',\n",
       " 'The',\n",
       " 'family',\n",
       " 'appealing',\n",
       " 'decision',\n",
       " 'We',\n",
       " 'paid',\n",
       " 'dollars',\n",
       " 'graze',\n",
       " 'It',\n",
       " 'Dwight',\n",
       " 'Hammond',\n",
       " 'adding',\n",
       " 'rent',\n",
       " 'pastures',\n",
       " 'ranchers',\n",
       " 'cows',\n",
       " 'fed',\n",
       " 'attorney',\n",
       " 'ranchers',\n",
       " 'Kendra',\n",
       " 'Mathews',\n",
       " 'declined',\n",
       " 'The',\n",
       " 'US',\n",
       " 'attorneys',\n",
       " 'office',\n",
       " 'comment',\n",
       " 'But',\n",
       " 'opinion',\n",
       " 'piece',\n",
       " 'Burns',\n",
       " 'Times',\n",
       " 'Herald',\n",
       " 'Oregons',\n",
       " 'US',\n",
       " 'attorney',\n",
       " 'Bill',\n",
       " 'Williams',\n",
       " 'Hammonds',\n",
       " 'fair',\n",
       " 'trial',\n",
       " 'lawful',\n",
       " 'sentences',\n",
       " 'Williams',\n",
       " 'government',\n",
       " 'ranchers',\n",
       " 'terrorists',\n",
       " 'prosecutors',\n",
       " 'acknowledged',\n",
       " 'contributed',\n",
       " 'community',\n",
       " 'Referring',\n",
       " 'militia',\n",
       " 'Williams',\n",
       " 'ny',\n",
       " 'criminal',\n",
       " 'behavior',\n",
       " 'contemplated',\n",
       " 'object',\n",
       " 'courts',\n",
       " 'mandate',\n",
       " 'tolerated',\n",
       " 'Hammonds',\n",
       " 'family',\n",
       " 'business',\n",
       " 'relatives',\n",
       " 'Maybe',\n",
       " 'Dwight',\n",
       " 'Hammond',\n",
       " 'son',\n",
       " 'prison',\n",
       " 'family',\n",
       " 'ranch',\n",
       " 'to']"
      ]
     },
     "execution_count": 5,
     "metadata": {},
     "output_type": "execute_result"
    }
   ],
   "source": [
    "data_list_split=[i.split(' ') for i in data_list]\n",
    "for i in range(len(data_list_split)):\n",
    "    while '' in data_list_split[i]:\n",
    "        data_list_split[i].remove('')\n",
    "data_list_split[0]"
   ]
  },
  {
   "cell_type": "code",
   "execution_count": 6,
   "metadata": {},
   "outputs": [
    {
     "name": "stdout",
     "output_type": "stream",
     "text": [
      "[[(0, 1), (1, 3), (2, 1), (3, 1), (4, 1), (5, 1), (6, 1), (7, 1), (8, 1), (9, 2), (10, 1), (11, 1), (12, 1), (13, 1), (14, 1), (15, 1), (16, 1), (17, 1), (18, 1), (19, 1), (20, 1), (21, 1), (22, 1), (23, 1), (24, 1), (25, 1), (26, 4), (27, 1), (28, 2), (29, 3), (30, 1), (31, 1), (32, 2), (33, 1), (34, 2), (35, 1), (36, 1), (37, 1), (38, 1), (39, 1), (40, 1), (41, 1), (42, 2), (43, 1), (44, 1), (45, 1), (46, 2), (47, 1), (48, 1), (49, 1), (50, 1), (51, 1), (52, 2), (53, 3), (54, 1), (55, 1), (56, 2), (57, 1), (58, 1), (59, 6), (60, 4), (61, 8), (62, 1), (63, 1), (64, 9), (65, 1), (66, 1), (67, 1), (68, 1), (69, 1), (70, 1), (71, 1), (72, 3), (73, 1), (74, 4), (75, 2), (76, 1), (77, 1), (78, 1), (79, 1), (80, 1), (81, 1), (82, 2), (83, 1), (84, 1), (85, 1), (86, 1), (87, 1), (88, 1), (89, 1), (90, 1), (91, 1), (92, 1), (93, 2), (94, 1), (95, 1), (96, 1), (97, 1), (98, 1), (99, 1), (100, 4), (101, 1), (102, 3), (103, 1), (104, 1), (105, 1), (106, 1), (107, 1), (108, 1), (109, 1), (110, 1), (111, 1), (112, 1), (113, 1), (114, 2), (115, 1), (116, 2), (117, 1), (118, 1), (119, 1), (120, 2), (121, 1), (122, 7), (123, 1), (124, 1), (125, 1), (126, 1), (127, 1), (128, 1), (129, 1), (130, 2), (131, 1), (132, 1), (133, 1), (134, 1), (135, 1), (136, 1), (137, 3)]]\n",
      "[[('Bill', 1), ('But', 3), ('California', 1), ('County', 1), ('David', 1), ('Federal', 1), ('He', 1), ('If', 1), ('It', 1), ('Its', 2), ('Jan', 1), ('Management', 1), ('Maybe', 1), ('National', 1), ('Neither', 1), ('Nevada', 1), ('New', 1), ('Oregon', 1), ('Over', 1), ('P', 1), ('Press', 1), ('Saturday', 1), ('Steven', 1), ('This', 1), ('Though', 1), ('Times', 1), ('US', 4), ('W', 1), ('We', 2), ('Williams', 3), ('acknowledged', 1), ('adding', 1), ('armed', 2), ('arrived', 1), ('attorney', 2), ('authority', 1), ('behavior', 1), ('bought', 1), ('business', 1), ('calls', 1), ('comment', 1), ('commit', 1), ('community', 2), ('conflict', 1), ('contributed', 1), ('controversy', 1), ('convicted', 2), ('country', 1), ('courts', 1), ('crimes', 1), ('criminal', 1), ('criticized', 1), ('decision', 2), ('declined', 3), ('dollars', 1), ('efforts', 1), ('email', 2), ('failed', 1), ('fair', 1), ('family', 6), ('father', 4), ('federal', 8), ('fter', 1), ('gained', 1), ('government', 9), ('governments', 1), ('growth', 1), ('handful', 1), ('happening', 1), ('harder', 1), ('hold', 1), ('involved', 1), ('judge', 3), ('lan', 1), ('land', 4), ('law', 2), ('lawyer', 1), ('lawyers', 1), ('leaders', 1), ('legal', 1), ('maintained', 1), ('miles', 1), ('militia', 2), ('minimum', 1), ('months', 1), ('ny', 1), ('office', 1), ('officials', 1), ('opinion', 1), ('opposition', 1), ('paid', 1), ('paying', 1), ('piece', 1), ('plan', 2), ('playing', 1), ('port', 1), ('porters', 1), ('powerful', 1), ('pressure', 1), ('price', 1), ('prison', 4), ('prominent', 1), ('property', 3), ('prosecutors', 1), ('protect', 1), ('protecting', 1), ('protest', 1), ('rally', 1), ('reduce', 1), ('referring', 1), ('relatives', 1), ('remote', 1), ('remove', 1), ('respond', 1), ('rights', 2), ('rightwing', 1), ('ruled', 2), ('rules', 1), ('sell', 1), ('sentence', 1), ('served', 2), ('setting', 1), ('son', 7), ('sought', 1), ('speak', 1), ('spread', 1), ('ssociated', 1), ('standard', 1), ('standoff', 1), ('terms', 1), ('terrorists', 2), ('to', 1), ('touched', 1), ('town', 1), ('trial', 1), ('welcomed', 1), ('word', 1), ('wrote', 3)]]\n"
     ]
    }
   ],
   "source": [
    "import gensim.corpora as corpora\n",
    "id2word = corpora.Dictionary(data_list_split)     # Create Dictionary\n",
    "id2word.filter_extremes(no_below=3, no_above=0.5, keep_n=3000)\n",
    "\n",
    "\n",
    "id2word.save_as_text(path+\"dictionary\")                   # save dict\n",
    "texts = data_list_split                           # Create Corpus\n",
    "corpus = [id2word.doc2bow(text) for text in texts]   # Term Document Frequency\n",
    "print(corpus[:1])\n",
    "print([[(id2word[id], freq) for id, freq in cp] for cp in corpus[:1]])\n",
    "\n",
    "#词袋模型"
   ]
  },
  {
   "cell_type": "code",
   "execution_count": 7,
   "metadata": {},
   "outputs": [
    {
     "name": "stdout",
     "output_type": "stream",
     "text": [
      "3000\n",
      "Dictionary(3000 unique tokens: ['Bill', 'But', 'California', 'County', 'David']...)\n"
     ]
    }
   ],
   "source": [
    "print(len(id2word))\n",
    "print(id2word)"
   ]
  },
  {
   "cell_type": "code",
   "execution_count": 8,
   "metadata": {},
   "outputs": [],
   "source": [
    "from gensim import models\n",
    " \n",
    "#根据语料库和字典生成模型\n",
    "tfidf_model = models.TfidfModel(corpus=corpus, dictionary=id2word)\n",
    "tfidf_model.save('test_tfidf.model') #保存模型到本地\n",
    "tfidf_model = models.TfidfModel.load('test_tfidf.model') #载入模型\n",
    "corpus_tfidf = [tfidf_model[doc] for doc in corpus]"
   ]
  },
  {
   "cell_type": "code",
   "execution_count": 9,
   "metadata": {},
   "outputs": [
    {
     "name": "stdout",
     "output_type": "stream",
     "text": [
      "[[(0, 0.05036334529209521), (1, 0.036254149014136275), (2, 0.04626051658290045), (3, 0.05288756943050122), (4, 0.032987817777339105), (5, 0.06023540707661371), (6, 0.013115109477942071), (7, 0.02391028000662702), (8, 0.012341835345628003), (9, 0.04549434693911555), (10, 0.056907018735719524), (11, 0.07065833655318633), (12, 0.06574669115126192), (13, 0.03557377492892086), (14, 0.07247595121932002), (15, 0.06386784640781762), (16, 0.026873427295783986), (17, 0.0675647165694356), (18, 0.058605709735222535), (19, 0.043376637577826116), (20, 0.04034869148878051), (21, 0.030890470845575134), (22, 0.07243683853260632), (23, 0.01880635605279556), (24, 0.06054229267984132), (25, 0.05046979307069284), (26, 0.07486090390930258), (27, 0.06762341952533142), (28, 0.03265750079564556), (29, 0.18464721002987383), (30, 0.05768186324108676), (31, 0.04163271288931355), (32, 0.09735591356369058), (33, 0.04462253108119724), (34, 0.12467482420360892), (35, 0.061683113458963455), (36, 0.06865382083540189), (37, 0.06577302985924495), (38, 0.03827514926888201), (39, 0.04479732422975707), (40, 0.04700104327305525), (41, 0.07212714696248439), (42, 0.08077972405005254), (43, 0.04664376220672142), (44, 0.04611539327998732), (45, 0.06309659683707347), (46, 0.13229227715753172), (47, 0.0197630997202391), (48, 0.0637387888771429), (49, 0.0602925261385809), (50, 0.05181381501363277), (51, 0.059131708095051666), (52, 0.06575573874976814), (53, 0.15822122232064773), (54, 0.05731798657378952), (55, 0.041038086037206635), (56, 0.10854589539859114), (57, 0.04150958891576687), (58, 0.05782963157783661), (59, 0.1907254512571195), (60, 0.17906718216171044), (61, 0.33931263370526393), (62, 0.0315570570324743), (63, 0.06378560517736195), (64, 0.18836545639273522), (65, 0.044386030616754724), (66, 0.056181033615965464), (67, 0.06674958263804645), (68, 0.057342003291337734), (69, 0.06180779465389376), (70, 0.03844753845999664), (71, 0.04065694671294283), (72, 0.15767470549725082), (73, 0.06983454932419234), (74, 0.20977545901597022), (75, 0.06728630630807307), (76, 0.059229938607200085), (77, 0.06487470944332827), (78, 0.03378409527829176), (79, 0.0429912037766057), (80, 0.07010471714029555), (81, 0.04385032201725756), (82, 0.13656589878260356), (83, 0.07097788916210511), (84, 0.026770353374784266), (85, 0.06687570822914711), (86, 0.03659662374280815), (87, 0.025874872271616833), (88, 0.0535981781406522), (89, 0.04273227301931446), (90, 0.047612285986770586), (91, 0.06009344659897637), (92, 0.06018795457759621), (93, 0.0836606198442166), (94, 0.04410872195708212), (95, 0.02293311069009267), (96, 0.036542579565992155), (97, 0.04575187156072625), (98, 0.04199783285215973), (99, 0.0568836105967897), (100, 0.22111186445099426), (101, 0.057698218419392676), (102, 0.1858317296818569), (103, 0.06221946693120298), (104, 0.044755361454821986), (105, 0.06651387817125318), (106, 0.05111737670552537), (107, 0.046360753339053), (108, 0.0600746081255995), (109, 0.05643729872705796), (110, 0.06457736540482036), (111, 0.07088851805328764), (112, 0.06615961711972367), (113, 0.05452884118035903), (114, 0.0719637718024793), (115, 0.07097788916210511), (116, 0.11656166722832946), (117, 0.04629803587759973), (118, 0.06325487636128782), (119, 0.07232003954677442), (120, 0.10382472684144757), (121, 0.05675157215730999), (122, 0.31049363629868976), (123, 0.052443864753992556), (124, 0.04781647074051834), (125, 0.049244489177958393), (126, 0.044683124297245656), (127, 0.06708802758938329), (128, 0.07186073584928526), (129, 0.04587760782511465), (130, 0.10348919016844381), (131, 0.023579707654172298), (132, 0.07193642663815603), (133, 0.040484343641451155), (134, 0.060914092626844885), (135, 0.06720236244267046), (136, 0.05558570278187347), (137, 0.11126555872404739)]]\n",
      "[[('Bill', 0.05036334529209521), ('But', 0.036254149014136275), ('California', 0.04626051658290045), ('County', 0.05288756943050122), ('David', 0.032987817777339105), ('Federal', 0.06023540707661371), ('He', 0.013115109477942071), ('If', 0.02391028000662702), ('It', 0.012341835345628003), ('Its', 0.04549434693911555), ('Jan', 0.056907018735719524), ('Management', 0.07065833655318633), ('Maybe', 0.06574669115126192), ('National', 0.03557377492892086), ('Neither', 0.07247595121932002), ('Nevada', 0.06386784640781762), ('New', 0.026873427295783986), ('Oregon', 0.0675647165694356), ('Over', 0.058605709735222535), ('P', 0.043376637577826116), ('Press', 0.04034869148878051), ('Saturday', 0.030890470845575134), ('Steven', 0.07243683853260632), ('This', 0.01880635605279556), ('Though', 0.06054229267984132), ('Times', 0.05046979307069284), ('US', 0.07486090390930258), ('W', 0.06762341952533142), ('We', 0.03265750079564556), ('Williams', 0.18464721002987383), ('acknowledged', 0.05768186324108676), ('adding', 0.04163271288931355), ('armed', 0.09735591356369058), ('arrived', 0.04462253108119724), ('attorney', 0.12467482420360892), ('authority', 0.061683113458963455), ('behavior', 0.06865382083540189), ('bought', 0.06577302985924495), ('business', 0.03827514926888201), ('calls', 0.04479732422975707), ('comment', 0.04700104327305525), ('commit', 0.07212714696248439), ('community', 0.08077972405005254), ('conflict', 0.04664376220672142), ('contributed', 0.04611539327998732), ('controversy', 0.06309659683707347), ('convicted', 0.13229227715753172), ('country', 0.0197630997202391), ('courts', 0.0637387888771429), ('crimes', 0.0602925261385809), ('criminal', 0.05181381501363277), ('criticized', 0.059131708095051666), ('decision', 0.06575573874976814), ('declined', 0.15822122232064773), ('dollars', 0.05731798657378952), ('efforts', 0.041038086037206635), ('email', 0.10854589539859114), ('failed', 0.04150958891576687), ('fair', 0.05782963157783661), ('family', 0.1907254512571195), ('father', 0.17906718216171044), ('federal', 0.33931263370526393), ('fter', 0.0315570570324743), ('gained', 0.06378560517736195), ('government', 0.18836545639273522), ('governments', 0.044386030616754724), ('growth', 0.056181033615965464), ('handful', 0.06674958263804645), ('happening', 0.057342003291337734), ('harder', 0.06180779465389376), ('hold', 0.03844753845999664), ('involved', 0.04065694671294283), ('judge', 0.15767470549725082), ('lan', 0.06983454932419234), ('land', 0.20977545901597022), ('law', 0.06728630630807307), ('lawyer', 0.059229938607200085), ('lawyers', 0.06487470944332827), ('leaders', 0.03378409527829176), ('legal', 0.0429912037766057), ('maintained', 0.07010471714029555), ('miles', 0.04385032201725756), ('militia', 0.13656589878260356), ('minimum', 0.07097788916210511), ('months', 0.026770353374784266), ('ny', 0.06687570822914711), ('office', 0.03659662374280815), ('officials', 0.025874872271616833), ('opinion', 0.0535981781406522), ('opposition', 0.04273227301931446), ('paid', 0.047612285986770586), ('paying', 0.06009344659897637), ('piece', 0.06018795457759621), ('plan', 0.0836606198442166), ('playing', 0.04410872195708212), ('port', 0.02293311069009267), ('porters', 0.036542579565992155), ('powerful', 0.04575187156072625), ('pressure', 0.04199783285215973), ('price', 0.0568836105967897), ('prison', 0.22111186445099426), ('prominent', 0.057698218419392676), ('property', 0.1858317296818569), ('prosecutors', 0.06221946693120298), ('protect', 0.044755361454821986), ('protecting', 0.06651387817125318), ('protest', 0.05111737670552537), ('rally', 0.046360753339053), ('reduce', 0.0600746081255995), ('referring', 0.05643729872705796), ('relatives', 0.06457736540482036), ('remote', 0.07088851805328764), ('remove', 0.06615961711972367), ('respond', 0.05452884118035903), ('rights', 0.0719637718024793), ('rightwing', 0.07097788916210511), ('ruled', 0.11656166722832946), ('rules', 0.04629803587759973), ('sell', 0.06325487636128782), ('sentence', 0.07232003954677442), ('served', 0.10382472684144757), ('setting', 0.05675157215730999), ('son', 0.31049363629868976), ('sought', 0.052443864753992556), ('speak', 0.04781647074051834), ('spread', 0.049244489177958393), ('ssociated', 0.044683124297245656), ('standard', 0.06708802758938329), ('standoff', 0.07186073584928526), ('terms', 0.04587760782511465), ('terrorists', 0.10348919016844381), ('to', 0.023579707654172298), ('touched', 0.07193642663815603), ('town', 0.040484343641451155), ('trial', 0.060914092626844885), ('welcomed', 0.06720236244267046), ('word', 0.05558570278187347), ('wrote', 0.11126555872404739)]]\n"
     ]
    }
   ],
   "source": [
    "print(corpus_tfidf[:1])\n",
    "print([[(id2word[id], freq) for id, freq in cp] for cp in corpus_tfidf[:1]])"
   ]
  },
  {
   "cell_type": "code",
   "execution_count": null,
   "metadata": {},
   "outputs": [],
   "source": [
    "tfidf_features=[]\n",
    "for i in corpus_tfidf:\n",
    "    new_feature=[0 for k in range(3000)]\n",
    "    for j in i:\n",
    "        new_feature[j[0]]=j[1]\n",
    "#         print(j)#(66, 0.17233049258408828)\n",
    "#     print(new_feature)\n",
    "    tfidf_features.append(new_feature)"
   ]
  },
  {
   "cell_type": "code",
   "execution_count": null,
   "metadata": {},
   "outputs": [],
   "source": [
    "print(len(tfidf_features),len(tfidf_features[0]))"
   ]
  },
  {
   "cell_type": "code",
   "execution_count": null,
   "metadata": {},
   "outputs": [],
   "source": [
    "print(len(topic),len(topic[0]))\n",
    "y_pred = KMeans(n_clusters=135, random_state=9).fit(tfidf_features)\n",
    "print(metrics.adjusted_rand_score(topic, y_pred.labels_))\n",
    "print(metrics.adjusted_mutual_info_score(topic, y_pred.labels_)) "
   ]
  },
  {
   "cell_type": "code",
   "execution_count": null,
   "metadata": {},
   "outputs": [],
   "source": []
  },
  {
   "cell_type": "code",
   "execution_count": null,
   "metadata": {},
   "outputs": [],
   "source": []
  },
  {
   "cell_type": "code",
   "execution_count": null,
   "metadata": {},
   "outputs": [],
   "source": [
    "#lda tf-idf"
   ]
  },
  {
   "cell_type": "code",
   "execution_count": 23,
   "metadata": {},
   "outputs": [],
   "source": [
    "num_topics_=30\n",
    "ldamodel_tfidf = models.LdaModel(corpus=corpus_tfidf, id2word=id2word, num_topics=num_topics_)"
   ]
  },
  {
   "cell_type": "code",
   "execution_count": 24,
   "metadata": {},
   "outputs": [],
   "source": [
    "# 得到每条新闻的主题分布\n",
    "# topics_test_tfidf = ldamodel_tfidf.get_document_topics(corpus_tfidf,minimum_probability=0.00001)\n",
    "topics_test_tfidf = ldamodel_tfidf.get_document_topics(corpus_tfidf)"
   ]
  },
  {
   "cell_type": "code",
   "execution_count": 25,
   "metadata": {},
   "outputs": [
    {
     "name": "stdout",
     "output_type": "stream",
     "text": [
      "[(8, 0.35247022), (9, 0.5578215)]\n"
     ]
    }
   ],
   "source": [
    "print(topics_test_tfidf[0])"
   ]
  },
  {
   "cell_type": "code",
   "execution_count": 26,
   "metadata": {},
   "outputs": [],
   "source": [
    "ida_features_tfidf=[]\n",
    "for i in topics_test_tfidf:\n",
    "    new_feature=[0 for k in range(num_topics_)]\n",
    "    for j in i:\n",
    "        new_feature[j[0]]=j[1]\n",
    "#         print(j)#(66, 0.17233049258408828)\n",
    "#     print(new_feature)\n",
    "    ida_features_tfidf.append(new_feature)"
   ]
  },
  {
   "cell_type": "code",
   "execution_count": 27,
   "metadata": {},
   "outputs": [
    {
     "name": "stdout",
     "output_type": "stream",
     "text": [
      "0.1895330724185248\n",
      "0.5085098935834949\n"
     ]
    }
   ],
   "source": [
    "y_pred = KMeans(n_clusters=135, random_state=9).fit(ida_features_tfidf)\n",
    "print(metrics.adjusted_rand_score(topic, y_pred.labels_))\n",
    "print(metrics.adjusted_mutual_info_score(topic, y_pred.labels_)) "
   ]
  },
  {
   "cell_type": "code",
   "execution_count": 33,
   "metadata": {},
   "outputs": [
    {
     "name": "stdout",
     "output_type": "stream",
     "text": [
      "[10, 20, 30, 40, 50, 60, 70, 80, 90, 100, 110, 120]\n"
     ]
    }
   ],
   "source": [
    "num_topics_=[i for i in range(10,121,10)]\n",
    "print(num_topics_)"
   ]
  },
  {
   "cell_type": "code",
   "execution_count": null,
   "metadata": {},
   "outputs": [
    {
     "name": "stdout",
     "output_type": "stream",
     "text": [
      "10\n"
     ]
    }
   ],
   "source": [
    "adjusted_rand_score=[]\n",
    "adjusted_mutual_info_score=[]\n",
    "for num_topics_ in range(10,121,10):\n",
    "    print(num_topics_)\n",
    "    ldamodel_tfidf = models.LdaModel(corpus=corpus_tfidf, id2word=id2word, num_topics=num_topics_)\n",
    "    topics_test_tfidf = ldamodel_tfidf.get_document_topics(corpus_tfidf)\n",
    "    ida_features_tfidf=[]\n",
    "    for i in topics_test_tfidf:\n",
    "        new_feature=[0 for k in range(num_topics_)]\n",
    "        for j in i:\n",
    "            new_feature[j[0]]=j[1]\n",
    "    #         print(j)#(66, 0.17233049258408828)\n",
    "    #     print(new_feature)\n",
    "        ida_features_tfidf.append(new_feature)\n",
    "        \n",
    "    y_pred = KMeans(n_clusters=135, random_state=9).fit(ida_features_tfidf)\n",
    "    a=metrics.adjusted_rand_score(topic, y_pred.labels_)\n",
    "    b=metrics.adjusted_mutual_info_score(topic, y_pred.labels_)\n",
    "    adjusted_rand_score.append(a)\n",
    "    adjusted_mutual_info_score.append(b)\n",
    "    print(num_topics_,\":\",a,b)"
   ]
  },
  {
   "cell_type": "code",
   "execution_count": null,
   "metadata": {},
   "outputs": [],
   "source": [
    "import matplotlib.pyplot as plt\n",
    "plt.plot([i for i in range(10,121,10)], adjusted_rand_score)\n",
    "plt.title('adjusted_rand_score')\n",
    "plt.show()\n",
    "\n",
    "plt.plot([i for i in range(10,121,10)], adjusted_mutual_info_score)\n",
    "plt.title('adjusted_mutual_info_score')\n",
    "plt.show()"
   ]
  },
  {
   "cell_type": "code",
   "execution_count": null,
   "metadata": {},
   "outputs": [],
   "source": []
  }
 ],
 "metadata": {
  "kernelspec": {
   "display_name": "bj1",
   "language": "python",
   "name": "bj1"
  },
  "language_info": {
   "codemirror_mode": {
    "name": "ipython",
    "version": 3
   },
   "file_extension": ".py",
   "mimetype": "text/x-python",
   "name": "python",
   "nbconvert_exporter": "python",
   "pygments_lexer": "ipython3",
   "version": "3.7.11"
  }
 },
 "nbformat": 4,
 "nbformat_minor": 2
}
